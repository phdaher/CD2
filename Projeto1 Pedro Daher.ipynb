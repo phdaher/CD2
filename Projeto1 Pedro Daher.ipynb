{
 "cells": [
  {
   "cell_type": "markdown",
   "metadata": {},
   "source": [
    "___\n",
    "# Ciência dos Dados - PROJETO 1"
   ]
  },
  {
   "cell_type": "markdown",
   "metadata": {},
   "source": [
    "## Pedro Henrique Daher\n",
    "___"
   ]
  },
  {
   "cell_type": "markdown",
   "metadata": {},
   "source": [
    "## Acesso a tecnologia de acordo com o nível de escolaridade e renda.\n"
   ]
  },
  {
   "cell_type": "markdown",
   "metadata": {},
   "source": [
    "___\n",
    "## Introdução\n",
    "\n",
    "### Possuir celular, ter acesso a internet e a outros meios de tecnologia é algo que ao decorrer dos anos vem crescendo muito no mundo todo, porém uma considerável parcela da sociedade ainda não possui tais privilégios.\n",
    "### Por meio dessa pesquisa, eu gostaria de observar o comportamento individual da população brasileira quanto ao acesso a tecnologia e verificar se a renda, o nível de escolaridade e diversos outros aspectos influenciam ou não em tal analise.  Utilizando os dados do PNAD 2011 e 2015 - Arquivo de pessoas, será possível escolher as variáveis necessárias para esta pesquisa e chegar a um resultado significativo, e ao final comparar se houve alguma evolução entre os anos de 2011 e 2015\n",
    "\n"
   ]
  },
  {
   "cell_type": "markdown",
   "metadata": {},
   "source": [
    "___\n",
    "## Filtros da base de dados"
   ]
  },
  {
   "cell_type": "code",
   "execution_count": 46,
   "metadata": {
    "collapsed": true
   },
   "outputs": [],
   "source": [
    "%matplotlib inline\n",
    "import pandas as pd\n",
    "import matplotlib.pyplot as plt\n",
    "import numpy as np\n",
    "import os\n",
    "from numpy import arange"
   ]
  },
  {
   "cell_type": "code",
   "execution_count": 37,
   "metadata": {},
   "outputs": [
    {
     "name": "stdout",
     "output_type": "stream",
     "text": [
      "Esperamos trabalhar no diretório\n",
      "C:\\Users\\Pedro Daher\\Downloads\n"
     ]
    }
   ],
   "source": [
    "print('Esperamos trabalhar no diretório')\n",
    "print(os.getcwd())"
   ]
  },
  {
   "cell_type": "code",
   "execution_count": 38,
   "metadata": {
    "collapsed": true
   },
   "outputs": [],
   "source": [
    "#Se usar o arquivo descompactado\n",
    "#pd.read_csv('PES2015.csv',sep=',')\n",
    "\n",
    "#Se usar o arquivo compactado como está no dropbox púbico\n",
    "#pd.read_csv('PES2015csv.zip', compression='zip', header=0, sep=',', quotechar='\"')\n",
    "tabela11=pd.read_csv('PES2011csv.zip', compression='zip', header=0, sep=',', quotechar='\"')\n",
    "tabela15=pd.read_csv('PES2015csv.zip', compression='zip', header=0, sep=',', quotechar='\"')"
   ]
  },
  {
   "cell_type": "code",
   "execution_count": 39,
   "metadata": {},
   "outputs": [
    {
     "data": {
      "text/html": [
       "<div>\n",
       "<style>\n",
       "    .dataframe thead tr:only-child th {\n",
       "        text-align: right;\n",
       "    }\n",
       "\n",
       "    .dataframe thead th {\n",
       "        text-align: left;\n",
       "    }\n",
       "\n",
       "    .dataframe tbody tr th {\n",
       "        vertical-align: top;\n",
       "    }\n",
       "</style>\n",
       "<table border=\"1\" class=\"dataframe\">\n",
       "  <thead>\n",
       "    <tr style=\"text-align: right;\">\n",
       "      <th></th>\n",
       "      <th>Ano</th>\n",
       "      <th>Estado</th>\n",
       "      <th>Sexo</th>\n",
       "      <th>Idade</th>\n",
       "      <th>LerEscrever</th>\n",
       "      <th>FrequentaEscola</th>\n",
       "      <th>RedeDeEnsino</th>\n",
       "      <th>GrauDoCurso</th>\n",
       "      <th>RendimentoMensalDotrabalho</th>\n",
       "      <th>UtilizouInternetNoUltimoMês</th>\n",
       "      <th>PossuiCelular</th>\n",
       "      <th>RendimentoMensalTotal</th>\n",
       "    </tr>\n",
       "  </thead>\n",
       "  <tbody>\n",
       "    <tr>\n",
       "      <th>0</th>\n",
       "      <td>2011</td>\n",
       "      <td>11</td>\n",
       "      <td>Masculino</td>\n",
       "      <td>49</td>\n",
       "      <td>Sim</td>\n",
       "      <td>Não</td>\n",
       "      <td>NaN</td>\n",
       "      <td>NaN</td>\n",
       "      <td>1.000000e+12</td>\n",
       "      <td>Não</td>\n",
       "      <td>Sim</td>\n",
       "      <td>1.000000e+12</td>\n",
       "    </tr>\n",
       "    <tr>\n",
       "      <th>1</th>\n",
       "      <td>2011</td>\n",
       "      <td>11</td>\n",
       "      <td>Feminino</td>\n",
       "      <td>33</td>\n",
       "      <td>Sim</td>\n",
       "      <td>Sim</td>\n",
       "      <td>Privada</td>\n",
       "      <td>Superior - de graduaçã0</td>\n",
       "      <td>NaN</td>\n",
       "      <td>Sim</td>\n",
       "      <td>Sim</td>\n",
       "      <td>0.000000e+00</td>\n",
       "    </tr>\n",
       "    <tr>\n",
       "      <th>2</th>\n",
       "      <td>2011</td>\n",
       "      <td>11</td>\n",
       "      <td>Feminino</td>\n",
       "      <td>15</td>\n",
       "      <td>Sim</td>\n",
       "      <td>Sim</td>\n",
       "      <td>Pública</td>\n",
       "      <td>Regular do ensino médio</td>\n",
       "      <td>NaN</td>\n",
       "      <td>Sim</td>\n",
       "      <td>Não</td>\n",
       "      <td>0.000000e+00</td>\n",
       "    </tr>\n",
       "    <tr>\n",
       "      <th>3</th>\n",
       "      <td>2011</td>\n",
       "      <td>11</td>\n",
       "      <td>Masculino</td>\n",
       "      <td>9</td>\n",
       "      <td>Sim</td>\n",
       "      <td>Sim</td>\n",
       "      <td>Pública</td>\n",
       "      <td>Regular do ensino fundamental</td>\n",
       "      <td>NaN</td>\n",
       "      <td>NaN</td>\n",
       "      <td>NaN</td>\n",
       "      <td>NaN</td>\n",
       "    </tr>\n",
       "    <tr>\n",
       "      <th>4</th>\n",
       "      <td>2011</td>\n",
       "      <td>11</td>\n",
       "      <td>Feminino</td>\n",
       "      <td>51</td>\n",
       "      <td>Sim</td>\n",
       "      <td>Não</td>\n",
       "      <td>NaN</td>\n",
       "      <td>NaN</td>\n",
       "      <td>2.800000e+03</td>\n",
       "      <td>Não</td>\n",
       "      <td>Sim</td>\n",
       "      <td>5.300000e+03</td>\n",
       "    </tr>\n",
       "  </tbody>\n",
       "</table>\n",
       "</div>"
      ],
      "text/plain": [
       "    Ano  Estado       Sexo  Idade LerEscrever FrequentaEscola RedeDeEnsino  \\\n",
       "0  2011      11  Masculino     49         Sim             Não          NaN   \n",
       "1  2011      11   Feminino     33         Sim             Sim      Privada   \n",
       "2  2011      11   Feminino     15         Sim             Sim      Pública   \n",
       "3  2011      11  Masculino      9         Sim             Sim      Pública   \n",
       "4  2011      11   Feminino     51         Sim             Não          NaN   \n",
       "\n",
       "                     GrauDoCurso  RendimentoMensalDotrabalho  \\\n",
       "0                            NaN                1.000000e+12   \n",
       "1        Superior - de graduaçã0                         NaN   \n",
       "2        Regular do ensino médio                         NaN   \n",
       "3  Regular do ensino fundamental                         NaN   \n",
       "4                            NaN                2.800000e+03   \n",
       "\n",
       "  UtilizouInternetNoUltimoMês PossuiCelular  RendimentoMensalTotal  \n",
       "0                         Não           Sim           1.000000e+12  \n",
       "1                         Sim           Sim           0.000000e+00  \n",
       "2                         Sim           Não           0.000000e+00  \n",
       "3                         NaN           NaN                    NaN  \n",
       "4                         Não           Sim           5.300000e+03  "
      ]
     },
     "execution_count": 39,
     "metadata": {},
     "output_type": "execute_result"
    }
   ],
   "source": [
    "cut11=tabela11.loc[:,['V0101','UF','V0302','V8005','V0601','V0602','V6002','V6003','V9532','V06111','V06112','V4720']]\n",
    "\n",
    "cut11=cut11.rename(columns={'V0101': 'Ano'})\n",
    "cut11=cut11.rename(columns={'UF': 'Estado'})\n",
    "cut11=cut11.rename(columns={'V0302': 'Sexo'})\n",
    "cut11=cut11.rename(columns={'V8005': 'Idade'})\n",
    "cut11=cut11.rename(columns={'V0601': 'LerEscrever'})\n",
    "cut11=cut11.rename(columns={'V0602': 'FrequentaEscola'})\n",
    "cut11=cut11.rename(columns={'V6002': 'RedeDeEnsino'})\n",
    "cut11=cut11.rename(columns={'V6003': 'GrauDoCurso'})\n",
    "cut11=cut11.rename(columns={'V9532': 'RendimentoMensalDotrabalho'}) #Quantitativa\n",
    "cut11=cut11.rename(columns={'V06111': 'UtilizouInternetNoUltimoMês'})\n",
    "cut11=cut11.rename(columns={'V06112': 'PossuiCelular'})\n",
    "cut11=cut11.rename(columns={'V4720': 'RendimentoMensalTotal'}) #Quantitativa\n",
    "\n",
    "cut11.Sexo=cut11.Sexo.astype(\"category\")\n",
    "cut11.Sexo.cat.categories=('Masculino','Feminino')\n",
    "cut11.LerEscrever=cut11.LerEscrever.astype(\"category\")\n",
    "cut11.LerEscrever.cat.categories=('Sim','Não')\n",
    "cut11.FrequentaEscola=cut11.FrequentaEscola.astype(\"category\")\n",
    "cut11.FrequentaEscola.cat.categories=('Sim','Não')\n",
    "cut11.RedeDeEnsino=cut11.RedeDeEnsino.astype(\"category\")\n",
    "cut11.RedeDeEnsino.cat.categories=('Pública','Privada') \n",
    "cut11.GrauDoCurso=cut11.GrauDoCurso.astype(\"category\")\n",
    "cut11.GrauDoCurso.cat.categories=('Regular do ensino fundamental',\"Regular do ensino médio\",\"Educação de jovens e adultos ou supletivo do ensino fundamental\", \"Educação de jovens e adultos ou supletivo do ensino médio\",\"Superior - de graduaçã0\",\"Alfabetização de jovens e adultos\",\"Creche\",\"Classe de alfabetização - CA\",\" Maternal, jardim de infância etc.\",\"Pré-vestibular\",\"Mestrado ou doutorado\")\n",
    "cut11.UtilizouInternetNoUltimoMês=cut11.UtilizouInternetNoUltimoMês.astype(\"category\")\n",
    "cut11.UtilizouInternetNoUltimoMês.cat.categories=('Sim','Não')\n",
    "cut11.PossuiCelular=cut11.PossuiCelular.astype(\"category\")\n",
    "cut11.PossuiCelular.cat.categories=('Sim','Não')\n",
    "\n",
    "cut11.head(5)"
   ]
  },
  {
   "cell_type": "code",
   "execution_count": 40,
   "metadata": {},
   "outputs": [
    {
     "data": {
      "text/html": [
       "<div>\n",
       "<style>\n",
       "    .dataframe thead tr:only-child th {\n",
       "        text-align: right;\n",
       "    }\n",
       "\n",
       "    .dataframe thead th {\n",
       "        text-align: left;\n",
       "    }\n",
       "\n",
       "    .dataframe tbody tr th {\n",
       "        vertical-align: top;\n",
       "    }\n",
       "</style>\n",
       "<table border=\"1\" class=\"dataframe\">\n",
       "  <thead>\n",
       "    <tr style=\"text-align: right;\">\n",
       "      <th></th>\n",
       "      <th>Ano</th>\n",
       "      <th>Estado</th>\n",
       "      <th>Sexo</th>\n",
       "      <th>Idade</th>\n",
       "      <th>LerEscrever</th>\n",
       "      <th>FrequentaEscola</th>\n",
       "      <th>RedeDeEnsino</th>\n",
       "      <th>GrauDoCurso</th>\n",
       "      <th>RendimentoMensalDoTrabalho</th>\n",
       "      <th>UtilizouInternetNoUltimoMês</th>\n",
       "      <th>PossuiCelular</th>\n",
       "      <th>RendimentoMensalTotal</th>\n",
       "    </tr>\n",
       "  </thead>\n",
       "  <tbody>\n",
       "    <tr>\n",
       "      <th>0</th>\n",
       "      <td>2015</td>\n",
       "      <td>11</td>\n",
       "      <td>Masculino</td>\n",
       "      <td>23</td>\n",
       "      <td>Sim</td>\n",
       "      <td>Não</td>\n",
       "      <td>NaN</td>\n",
       "      <td>NaN</td>\n",
       "      <td>800.0</td>\n",
       "      <td>Sim</td>\n",
       "      <td>Sim</td>\n",
       "      <td>800.0</td>\n",
       "    </tr>\n",
       "    <tr>\n",
       "      <th>1</th>\n",
       "      <td>2015</td>\n",
       "      <td>11</td>\n",
       "      <td>Feminino</td>\n",
       "      <td>23</td>\n",
       "      <td>Sim</td>\n",
       "      <td>Não</td>\n",
       "      <td>NaN</td>\n",
       "      <td>NaN</td>\n",
       "      <td>1150.0</td>\n",
       "      <td>Sim</td>\n",
       "      <td>Sim</td>\n",
       "      <td>1150.0</td>\n",
       "    </tr>\n",
       "    <tr>\n",
       "      <th>2</th>\n",
       "      <td>2015</td>\n",
       "      <td>11</td>\n",
       "      <td>Feminino</td>\n",
       "      <td>35</td>\n",
       "      <td>Sim</td>\n",
       "      <td>Sim</td>\n",
       "      <td>Privada</td>\n",
       "      <td>Superior - de graduaçã0</td>\n",
       "      <td>880.0</td>\n",
       "      <td>Sim</td>\n",
       "      <td>Sim</td>\n",
       "      <td>880.0</td>\n",
       "    </tr>\n",
       "    <tr>\n",
       "      <th>3</th>\n",
       "      <td>2015</td>\n",
       "      <td>11</td>\n",
       "      <td>Masculino</td>\n",
       "      <td>34</td>\n",
       "      <td>Sim</td>\n",
       "      <td>Não</td>\n",
       "      <td>NaN</td>\n",
       "      <td>NaN</td>\n",
       "      <td>3000.0</td>\n",
       "      <td>Sim</td>\n",
       "      <td>Sim</td>\n",
       "      <td>3000.0</td>\n",
       "    </tr>\n",
       "    <tr>\n",
       "      <th>4</th>\n",
       "      <td>2015</td>\n",
       "      <td>11</td>\n",
       "      <td>Feminino</td>\n",
       "      <td>11</td>\n",
       "      <td>Sim</td>\n",
       "      <td>Sim</td>\n",
       "      <td>Privada</td>\n",
       "      <td>Regular do ensino fundamental</td>\n",
       "      <td>NaN</td>\n",
       "      <td>Sim</td>\n",
       "      <td>Sim</td>\n",
       "      <td>0.0</td>\n",
       "    </tr>\n",
       "  </tbody>\n",
       "</table>\n",
       "</div>"
      ],
      "text/plain": [
       "    Ano  Estado       Sexo  Idade LerEscrever FrequentaEscola RedeDeEnsino  \\\n",
       "0  2015      11  Masculino     23         Sim             Não          NaN   \n",
       "1  2015      11   Feminino     23         Sim             Não          NaN   \n",
       "2  2015      11   Feminino     35         Sim             Sim      Privada   \n",
       "3  2015      11  Masculino     34         Sim             Não          NaN   \n",
       "4  2015      11   Feminino     11         Sim             Sim      Privada   \n",
       "\n",
       "                     GrauDoCurso  RendimentoMensalDoTrabalho  \\\n",
       "0                            NaN                       800.0   \n",
       "1                            NaN                      1150.0   \n",
       "2        Superior - de graduaçã0                       880.0   \n",
       "3                            NaN                      3000.0   \n",
       "4  Regular do ensino fundamental                         NaN   \n",
       "\n",
       "  UtilizouInternetNoUltimoMês PossuiCelular  RendimentoMensalTotal  \n",
       "0                         Sim           Sim                  800.0  \n",
       "1                         Sim           Sim                 1150.0  \n",
       "2                         Sim           Sim                  880.0  \n",
       "3                         Sim           Sim                 3000.0  \n",
       "4                         Sim           Sim                    0.0  "
      ]
     },
     "execution_count": 40,
     "metadata": {},
     "output_type": "execute_result"
    }
   ],
   "source": [
    "cut15=tabela15.loc[:,['V0101','UF','V0302','V8005','V0601','V0602','V6002','V6003','V9532','V06111','V06112','V4720']]\n",
    "\n",
    "cut15=cut15.rename(columns={'V0101': 'Ano'})\n",
    "cut15=cut15.rename(columns={'UF': 'Estado'})\n",
    "cut15=cut15.rename(columns={'V0302': 'Sexo'})\n",
    "cut15=cut15.rename(columns={'V8005': 'Idade'})\n",
    "cut15=cut15.rename(columns={'V0601': 'LerEscrever'})\n",
    "cut15=cut15.rename(columns={'V0602': 'FrequentaEscola'})\n",
    "cut15=cut15.rename(columns={'V6002': 'RedeDeEnsino'})\n",
    "cut15=cut15.rename(columns={'V6003': 'GrauDoCurso'})\n",
    "cut15=cut15.rename(columns={'V9532': 'RendimentoMensalDoTrabalho'}) #Quantitativa\n",
    "cut15=cut15.rename(columns={'V06111': 'UtilizouInternetNoUltimoMês'})\n",
    "cut15=cut15.rename(columns={'V06112': 'PossuiCelular'})\n",
    "cut15=cut15.rename(columns={'V4720': 'RendimentoMensalTotal'}) #Quantitativa\n",
    "\n",
    "cut15.Sexo=cut15.Sexo.astype(\"category\")\n",
    "cut15.Sexo.cat.categories=('Masculino','Feminino')\n",
    "cut15.LerEscrever=cut15.LerEscrever.astype(\"category\")\n",
    "cut15.LerEscrever.cat.categories=('Sim','Não')\n",
    "cut15.FrequentaEscola=cut15.FrequentaEscola.astype(\"category\")\n",
    "cut15.FrequentaEscola.cat.categories=('Sim','Não')\n",
    "cut15.RedeDeEnsino=cut15.RedeDeEnsino.astype(\"category\")\n",
    "cut15.RedeDeEnsino.cat.categories=('Pública','Privada') \n",
    "cut15.GrauDoCurso=cut15.GrauDoCurso.astype(\"category\")\n",
    "cut15.GrauDoCurso.cat.categories=('Regular do ensino fundamental',\"Regular do ensino médio\",\"Educação de jovens e adultos ou supletivo do ensino fundamental\", \"Educação de jovens e adultos ou supletivo do ensino médio\",\"Superior - de graduaçã0\",\"Alfabetização de jovens e adultos\",\"Creche\",\"Classe de alfabetização - CA\",\" Maternal, jardim de infância etc.\",\"Pré-vestibular\",\"Mestrado ou doutorado\")\n",
    "cut15.UtilizouInternetNoUltimoMês=cut15.UtilizouInternetNoUltimoMês.astype(\"category\")\n",
    "cut15.UtilizouInternetNoUltimoMês.cat.categories=('Sim','Não')\n",
    "cut15.PossuiCelular=cut15.PossuiCelular.astype(\"category\")\n",
    "cut15.PossuiCelular.cat.categories=('Sim','Não')\n",
    "cut15.head()"
   ]
  },
  {
   "cell_type": "code",
   "execution_count": 51,
   "metadata": {},
   "outputs": [
    {
     "data": {
      "text/plain": [
       "<matplotlib.text.Text at 0x24de330d828>"
      ]
     },
     "execution_count": 51,
     "metadata": {},
     "output_type": "execute_result"
    },
    {
     "data": {
      "image/png": "[encoded data removed]",
      "text/plain": [
       "<matplotlib.figure.Figure at 0x24d81416630>"
      ]
     },
     "metadata": {},
     "output_type": "display_data"
    }
   ],
   "source": [
    "ct1 = pd.crosstab(cut11.RedeDeEnsino, cut11.PossuiCelular)\n",
    "ct1.plot(kind='bar', color=('red', 'blue'))\n",
    "plt.ylabel('Frequência Absoluta')"
   ]
  },
  {
   "cell_type": "code",
   "execution_count": 45,
   "metadata": {},
   "outputs": [
    {
     "data": {
      "text/plain": [
       "count    1.573390e+05\n",
       "mean     3.795626e+10\n",
       "std      1.910911e+11\n",
       "min      1.000000e+00\n",
       "25%      5.450000e+02\n",
       "50%      8.000000e+02\n",
       "75%      1.500000e+03\n",
       "max      1.000000e+12\n",
       "Name: RendimentoMensalDotrabalho, dtype: float64"
      ]
     },
     "execution_count": 45,
     "metadata": {},
     "output_type": "execute_result"
    }
   ],
   "source": [
    "cut11.RendimentoMensalDotrabalho.describe()"
   ]
  },
  {
   "cell_type": "code",
   "execution_count": 47,
   "metadata": {},
   "outputs": [
    {
     "name": "stdout",
     "output_type": "stream",
     "text": [
      "(1, 101]         2.6\n",
      "(101, 201]       4.4\n",
      "(201, 301]       5.1\n",
      "(301, 401]       4.0\n",
      "(401, 501]       3.5\n",
      "(501, 601]      22.5\n",
      "(601, 701]       8.7\n",
      "(701, 801]       9.6\n",
      "(801, 901]       5.3\n",
      "(901, 1001]      7.4\n",
      "(1001, 1101]     3.4\n",
      "(1101, 1201]     4.8\n",
      "(1201, 1301]     1.8\n",
      "(1301, 1401]     1.1\n",
      "(1401, 1501]     4.4\n",
      "(1501, 1601]     1.3\n",
      "(1601, 1701]     1.0\n",
      "(1701, 1801]     1.2\n",
      "(1801, 1901]     0.3\n",
      "(1901, 2001]     3.6\n",
      "(2001, 2101]     0.3\n",
      "(2101, 2201]     0.5\n",
      "(2201, 2301]     0.3\n",
      "(2301, 2401]     0.2\n",
      "(2401, 2501]     1.8\n",
      "(2501, 2601]     0.2\n",
      "(2601, 2701]     0.2\n",
      "(2701, 2801]     0.4\n",
      "(2801, 2901]     0.1\n",
      "Name: RendimentoMensalDotrabalho, dtype: float64 \n",
      "\n"
     ]
    }
   ],
   "source": [
    "FaixasRenda = arange(1,3000,100)\n",
    "Renda_cat = pd.cut(cut11.RendimentoMensalDotrabalho,bins = FaixasRenda,right = True)\n",
    "ut1 = (Renda_cat.value_counts(sort = False, normalize = True)*100).round(decimals=1)\n",
    "print(ut1,\"\\n\")\n"
   ]
  },
  {
   "cell_type": "code",
   "execution_count": 49,
   "metadata": {},
   "outputs": [
    {
     "data": {
      "text/plain": [
       "<matplotlib.axes._subplots.AxesSubplot at 0x24dc4212940>"
      ]
     },
     "execution_count": 49,
     "metadata": {},
     "output_type": "execute_result"
    },
    {
     "data": {
      "image/png": "[encoded data removed]",
      "text/plain": [
       "<matplotlib.figure.Figure at 0x24d816f2ba8>"
      ]
     },
     "metadata": {},
     "output_type": "display_data"
    }
   ],
   "source": [
    "cut11.RendimentoMensalDotrabalho.plot.hist(bins = FaixasRenda)"
   ]
  },
  {
   "cell_type": "markdown",
   "metadata": {},
   "source": [
    "___\n",
    "## Análise e Resultados"
   ]
  },
  {
   "cell_type": "code",
   "execution_count": null,
   "metadata": {
    "collapsed": true
   },
   "outputs": [],
   "source": []
  },
  {
   "cell_type": "code",
   "execution_count": null,
   "metadata": {
    "collapsed": true
   },
   "outputs": [],
   "source": []
  },
  {
   "cell_type": "markdown",
   "metadata": {},
   "source": [
    "___\n",
    "## Conclusão "
   ]
  },
  {
   "cell_type": "markdown",
   "metadata": {
    "collapsed": true
   },
   "source": [
    "Descreva aqui suas conclusões!"
   ]
  },
  {
   "cell_type": "code",
   "execution_count": null,
   "metadata": {
    "collapsed": true
   },
   "outputs": [],
   "source": []
  }
 ],
 "metadata": {
  "anaconda-cloud": {},
  "kernelspec": {
   "display_name": "Python 3",
   "language": "python",
   "name": "python3"
  },
  "language_info": {
   "codemirror_mode": {
    "name": "ipython",
    "version": 3
   },
   "file_extension": ".py",
   "mimetype": "text/x-python",
   "name": "python",
   "nbconvert_exporter": "python",
   "pygments_lexer": "ipython3",
   "version": "3.6.1"
  }
 },
 "nbformat": 4,
 "nbformat_minor": 1
}
