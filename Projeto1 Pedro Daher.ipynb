{
 "cells": [
  {
   "cell_type": "markdown",
   "metadata": {},
   "source": [
    "___\n",
    "# Ciência dos Dados - PROJETO 1"
   ]
  },
  {
   "cell_type": "markdown",
   "metadata": {},
   "source": [
    "## Pedro Henrique Daher\n",
    "___"
   ]
  },
  {
   "cell_type": "markdown",
   "metadata": {},
   "source": [
    "## Acesso a tecnologia de acordo com o nível de escolaridade e renda.\n"
   ]
  },
  {
   "cell_type": "markdown",
   "metadata": {},
   "source": [
    "___\n",
    "## Introdução\n",
    "\n",
    "### Possuir celular, ter acesso a internet e a outros meios de tecnologia é algo que ao decorrer dos anos vem crescendo muito no mundo todo, porém uma considerável parcela da sociedade ainda não possui tais privilégios.\n",
    "### Por meio dessa pesquisa, eu gostaria de observar o comportamento individual da população brasileira quanto ao acesso a tecnologia e verificar se a renda, o nível de escolaridade e diversos outros aspectos influenciam ou não em tal analise.  Utilizando os dados do PNAD 2011 e 2015 - Arquivo de pessoas, será possível escolher as variáveis necessárias para esta pesquisa e chegar a um resultado significativo, e ao final comparar se houve alguma evolução entre os anos de 2011 e 2015.\n",
    "\n",
    "### Como meu objetivo é analisar o Brasil todo não vou me restringir a utilizar apenas alguns estados."
   ]
  },
  {
   "cell_type": "markdown",
   "metadata": {},
   "source": [
    "___\n",
    "## Filtros da base de dados"
   ]
  },
  {
   "cell_type": "code",
   "execution_count": 7,
   "metadata": {
    "collapsed": true
   },
   "outputs": [],
   "source": [
    "%matplotlib inline\n",
    "import pandas as pd\n",
    "import matplotlib.pyplot as plt\n",
    "import numpy as np\n",
    "import os\n",
    "from numpy import arange"
   ]
  },
  {
   "cell_type": "code",
   "execution_count": 8,
   "metadata": {},
   "outputs": [
    {
     "name": "stdout",
     "output_type": "stream",
     "text": [
      "Esperamos trabalhar no diretório\n",
      "C:\\Users\\Pedro Daher\\Downloads\n"
     ]
    }
   ],
   "source": [
    "print('Esperamos trabalhar no diretório')\n",
    "print(os.getcwd())"
   ]
  },
  {
   "cell_type": "code",
   "execution_count": 9,
   "metadata": {
    "collapsed": true
   },
   "outputs": [],
   "source": [
    "#Se usar o arquivo descompactado\n",
    "#pd.read_csv('PES2015.csv',sep=',')\n",
    "\n",
    "#Se usar o arquivo compactado como está no dropbox púbico\n",
    "#pd.read_csv('PES2015csv.zip', compression='zip', header=0, sep=',', quotechar='\"')\n",
    "tabela11=pd.read_csv('PES2011csv.zip', compression='zip', header=0, sep=',', quotechar='\"')\n",
    "tabela15=pd.read_csv('PES2015csv.zip', compression='zip', header=0, sep=',', quotechar='\"')"
   ]
  },
  {
   "cell_type": "markdown",
   "metadata": {},
   "source": [
    "### Nas próximas duas celulas vou filtrar minha base de dados com apenas as colunas que serão utilizados para o estudo em questão, além disso irei trocar os nomes das colunas e seus respectivos valores numericos serão substituidos pelo que eles realmente representam, ao final irei plotar um pequeno pedaço da tabela apenas para ficar mais fácil de ser visualizado o que será estudado"
   ]
  },
  {
   "cell_type": "markdown",
   "metadata": {},
   "source": [
    "## 2011"
   ]
  },
  {
   "cell_type": "code",
   "execution_count": 10,
   "metadata": {},
   "outputs": [
    {
     "data": {
      "text/html": [
       "<div>\n",
       "<style>\n",
       "    .dataframe thead tr:only-child th {\n",
       "        text-align: right;\n",
       "    }\n",
       "\n",
       "    .dataframe thead th {\n",
       "        text-align: left;\n",
       "    }\n",
       "\n",
       "    .dataframe tbody tr th {\n",
       "        vertical-align: top;\n",
       "    }\n",
       "</style>\n",
       "<table border=\"1\" class=\"dataframe\">\n",
       "  <thead>\n",
       "    <tr style=\"text-align: right;\">\n",
       "      <th></th>\n",
       "      <th>Ano</th>\n",
       "      <th>Estado</th>\n",
       "      <th>Sexo</th>\n",
       "      <th>Idade</th>\n",
       "      <th>LerEscrever</th>\n",
       "      <th>FrequentaEscola</th>\n",
       "      <th>RedeDeEnsino</th>\n",
       "      <th>GrauDoCurso</th>\n",
       "      <th>RendimentoMensalDotrabalho</th>\n",
       "      <th>UtilizouInternetNoUltimoMês</th>\n",
       "      <th>PossuiCelular</th>\n",
       "      <th>RendimentoMensalTotal</th>\n",
       "    </tr>\n",
       "  </thead>\n",
       "  <tbody>\n",
       "    <tr>\n",
       "      <th>0</th>\n",
       "      <td>2011</td>\n",
       "      <td>11</td>\n",
       "      <td>Masculino</td>\n",
       "      <td>49</td>\n",
       "      <td>Sim</td>\n",
       "      <td>Não</td>\n",
       "      <td>NaN</td>\n",
       "      <td>NaN</td>\n",
       "      <td>1.000000e+12</td>\n",
       "      <td>Não</td>\n",
       "      <td>Sim</td>\n",
       "      <td>1.000000e+12</td>\n",
       "    </tr>\n",
       "    <tr>\n",
       "      <th>1</th>\n",
       "      <td>2011</td>\n",
       "      <td>11</td>\n",
       "      <td>Feminino</td>\n",
       "      <td>33</td>\n",
       "      <td>Sim</td>\n",
       "      <td>Sim</td>\n",
       "      <td>Privada</td>\n",
       "      <td>Superior - de graduaçã0</td>\n",
       "      <td>NaN</td>\n",
       "      <td>Sim</td>\n",
       "      <td>Sim</td>\n",
       "      <td>0.000000e+00</td>\n",
       "    </tr>\n",
       "    <tr>\n",
       "      <th>2</th>\n",
       "      <td>2011</td>\n",
       "      <td>11</td>\n",
       "      <td>Feminino</td>\n",
       "      <td>15</td>\n",
       "      <td>Sim</td>\n",
       "      <td>Sim</td>\n",
       "      <td>Pública</td>\n",
       "      <td>Regular do ensino médio</td>\n",
       "      <td>NaN</td>\n",
       "      <td>Sim</td>\n",
       "      <td>Não</td>\n",
       "      <td>0.000000e+00</td>\n",
       "    </tr>\n",
       "    <tr>\n",
       "      <th>3</th>\n",
       "      <td>2011</td>\n",
       "      <td>11</td>\n",
       "      <td>Masculino</td>\n",
       "      <td>9</td>\n",
       "      <td>Sim</td>\n",
       "      <td>Sim</td>\n",
       "      <td>Pública</td>\n",
       "      <td>Regular do ensino fundamental</td>\n",
       "      <td>NaN</td>\n",
       "      <td>NaN</td>\n",
       "      <td>NaN</td>\n",
       "      <td>NaN</td>\n",
       "    </tr>\n",
       "    <tr>\n",
       "      <th>4</th>\n",
       "      <td>2011</td>\n",
       "      <td>11</td>\n",
       "      <td>Feminino</td>\n",
       "      <td>51</td>\n",
       "      <td>Sim</td>\n",
       "      <td>Não</td>\n",
       "      <td>NaN</td>\n",
       "      <td>NaN</td>\n",
       "      <td>2.800000e+03</td>\n",
       "      <td>Não</td>\n",
       "      <td>Sim</td>\n",
       "      <td>5.300000e+03</td>\n",
       "    </tr>\n",
       "  </tbody>\n",
       "</table>\n",
       "</div>"
      ],
      "text/plain": [
       "    Ano  Estado       Sexo  Idade LerEscrever FrequentaEscola RedeDeEnsino  \\\n",
       "0  2011      11  Masculino     49         Sim             Não          NaN   \n",
       "1  2011      11   Feminino     33         Sim             Sim      Privada   \n",
       "2  2011      11   Feminino     15         Sim             Sim      Pública   \n",
       "3  2011      11  Masculino      9         Sim             Sim      Pública   \n",
       "4  2011      11   Feminino     51         Sim             Não          NaN   \n",
       "\n",
       "                     GrauDoCurso  RendimentoMensalDotrabalho  \\\n",
       "0                            NaN                1.000000e+12   \n",
       "1        Superior - de graduaçã0                         NaN   \n",
       "2        Regular do ensino médio                         NaN   \n",
       "3  Regular do ensino fundamental                         NaN   \n",
       "4                            NaN                2.800000e+03   \n",
       "\n",
       "  UtilizouInternetNoUltimoMês PossuiCelular  RendimentoMensalTotal  \n",
       "0                         Não           Sim           1.000000e+12  \n",
       "1                         Sim           Sim           0.000000e+00  \n",
       "2                         Sim           Não           0.000000e+00  \n",
       "3                         NaN           NaN                    NaN  \n",
       "4                         Não           Sim           5.300000e+03  "
      ]
     },
     "execution_count": 10,
     "metadata": {},
     "output_type": "execute_result"
    }
   ],
   "source": [
    "cut11=tabela11.loc[:,['V0101','UF','V0302','V8005','V0601','V0602','V6002','V6003','V9532','V06111','V06112','V4720']]\n",
    "\n",
    "cut11=cut11.rename(columns={'V0101': 'Ano'})\n",
    "cut11=cut11.rename(columns={'UF': 'Estado'})\n",
    "cut11=cut11.rename(columns={'V0302': 'Sexo'})\n",
    "cut11=cut11.rename(columns={'V8005': 'Idade'})\n",
    "cut11=cut11.rename(columns={'V0601': 'LerEscrever'})\n",
    "cut11=cut11.rename(columns={'V0602': 'FrequentaEscola'})\n",
    "cut11=cut11.rename(columns={'V6002': 'RedeDeEnsino'})\n",
    "cut11=cut11.rename(columns={'V6003': 'GrauDoCurso'})\n",
    "cut11=cut11.rename(columns={'V9532': 'RendimentoMensalDotrabalho'}) #Quantitativa\n",
    "cut11=cut11.rename(columns={'V06111': 'UtilizouInternetNoUltimoMês'})\n",
    "cut11=cut11.rename(columns={'V06112': 'PossuiCelular'})\n",
    "cut11=cut11.rename(columns={'V4720': 'RendimentoMensalTotal'}) #Quantitativa\n",
    "\n",
    "cut11.Sexo=cut11.Sexo.astype(\"category\")\n",
    "cut11.Sexo.cat.categories=('Masculino','Feminino')\n",
    "cut11.LerEscrever=cut11.LerEscrever.astype(\"category\")\n",
    "cut11.LerEscrever.cat.categories=('Sim','Não')\n",
    "cut11.FrequentaEscola=cut11.FrequentaEscola.astype(\"category\")\n",
    "cut11.FrequentaEscola.cat.categories=('Sim','Não')\n",
    "cut11.RedeDeEnsino=cut11.RedeDeEnsino.astype(\"category\")\n",
    "cut11.RedeDeEnsino.cat.categories=('Pública','Privada') \n",
    "cut11.GrauDoCurso=cut11.GrauDoCurso.astype(\"category\")\n",
    "cut11.GrauDoCurso.cat.categories=('Regular do ensino fundamental',\"Regular do ensino médio\",\"Educação de jovens e adultos ou supletivo do ensino fundamental\", \"Educação de jovens e adultos ou supletivo do ensino médio\",\"Superior - de graduaçã0\",\"Alfabetização de jovens e adultos\",\"Creche\",\"Classe de alfabetização - CA\",\" Maternal, jardim de infância etc.\",\"Pré-vestibular\",\"Mestrado ou doutorado\")\n",
    "cut11.UtilizouInternetNoUltimoMês=cut11.UtilizouInternetNoUltimoMês.astype(\"category\")\n",
    "cut11.UtilizouInternetNoUltimoMês.cat.categories=('Sim','Não')\n",
    "cut11.PossuiCelular=cut11.PossuiCelular.astype(\"category\")\n",
    "cut11.PossuiCelular.cat.categories=('Sim','Não')\n",
    "\n",
    "cut11.head(5)"
   ]
  },
  {
   "cell_type": "markdown",
   "metadata": {},
   "source": [
    "## 2015"
   ]
  },
  {
   "cell_type": "code",
   "execution_count": 11,
   "metadata": {
    "scrolled": true
   },
   "outputs": [
    {
     "data": {
      "text/html": [
       "<div>\n",
       "<style>\n",
       "    .dataframe thead tr:only-child th {\n",
       "        text-align: right;\n",
       "    }\n",
       "\n",
       "    .dataframe thead th {\n",
       "        text-align: left;\n",
       "    }\n",
       "\n",
       "    .dataframe tbody tr th {\n",
       "        vertical-align: top;\n",
       "    }\n",
       "</style>\n",
       "<table border=\"1\" class=\"dataframe\">\n",
       "  <thead>\n",
       "    <tr style=\"text-align: right;\">\n",
       "      <th></th>\n",
       "      <th>Ano</th>\n",
       "      <th>Estado</th>\n",
       "      <th>Sexo</th>\n",
       "      <th>Idade</th>\n",
       "      <th>LerEscrever</th>\n",
       "      <th>FrequentaEscola</th>\n",
       "      <th>RedeDeEnsino</th>\n",
       "      <th>GrauDoCurso</th>\n",
       "      <th>RendimentoMensalDoTrabalho</th>\n",
       "      <th>UtilizouInternetNoUltimoMês</th>\n",
       "      <th>PossuiCelular</th>\n",
       "      <th>RendimentoMensalTotal</th>\n",
       "    </tr>\n",
       "  </thead>\n",
       "  <tbody>\n",
       "    <tr>\n",
       "      <th>0</th>\n",
       "      <td>2015</td>\n",
       "      <td>11</td>\n",
       "      <td>Masculino</td>\n",
       "      <td>23</td>\n",
       "      <td>Sim</td>\n",
       "      <td>Não</td>\n",
       "      <td>NaN</td>\n",
       "      <td>NaN</td>\n",
       "      <td>800.0</td>\n",
       "      <td>Sim</td>\n",
       "      <td>Sim</td>\n",
       "      <td>800.0</td>\n",
       "    </tr>\n",
       "    <tr>\n",
       "      <th>1</th>\n",
       "      <td>2015</td>\n",
       "      <td>11</td>\n",
       "      <td>Feminino</td>\n",
       "      <td>23</td>\n",
       "      <td>Sim</td>\n",
       "      <td>Não</td>\n",
       "      <td>NaN</td>\n",
       "      <td>NaN</td>\n",
       "      <td>1150.0</td>\n",
       "      <td>Sim</td>\n",
       "      <td>Sim</td>\n",
       "      <td>1150.0</td>\n",
       "    </tr>\n",
       "    <tr>\n",
       "      <th>2</th>\n",
       "      <td>2015</td>\n",
       "      <td>11</td>\n",
       "      <td>Feminino</td>\n",
       "      <td>35</td>\n",
       "      <td>Sim</td>\n",
       "      <td>Sim</td>\n",
       "      <td>Privada</td>\n",
       "      <td>Superior - de graduaçã0</td>\n",
       "      <td>880.0</td>\n",
       "      <td>Sim</td>\n",
       "      <td>Sim</td>\n",
       "      <td>880.0</td>\n",
       "    </tr>\n",
       "    <tr>\n",
       "      <th>3</th>\n",
       "      <td>2015</td>\n",
       "      <td>11</td>\n",
       "      <td>Masculino</td>\n",
       "      <td>34</td>\n",
       "      <td>Sim</td>\n",
       "      <td>Não</td>\n",
       "      <td>NaN</td>\n",
       "      <td>NaN</td>\n",
       "      <td>3000.0</td>\n",
       "      <td>Sim</td>\n",
       "      <td>Sim</td>\n",
       "      <td>3000.0</td>\n",
       "    </tr>\n",
       "    <tr>\n",
       "      <th>4</th>\n",
       "      <td>2015</td>\n",
       "      <td>11</td>\n",
       "      <td>Feminino</td>\n",
       "      <td>11</td>\n",
       "      <td>Sim</td>\n",
       "      <td>Sim</td>\n",
       "      <td>Privada</td>\n",
       "      <td>Regular do ensino fundamental</td>\n",
       "      <td>NaN</td>\n",
       "      <td>Sim</td>\n",
       "      <td>Sim</td>\n",
       "      <td>0.0</td>\n",
       "    </tr>\n",
       "  </tbody>\n",
       "</table>\n",
       "</div>"
      ],
      "text/plain": [
       "    Ano  Estado       Sexo  Idade LerEscrever FrequentaEscola RedeDeEnsino  \\\n",
       "0  2015      11  Masculino     23         Sim             Não          NaN   \n",
       "1  2015      11   Feminino     23         Sim             Não          NaN   \n",
       "2  2015      11   Feminino     35         Sim             Sim      Privada   \n",
       "3  2015      11  Masculino     34         Sim             Não          NaN   \n",
       "4  2015      11   Feminino     11         Sim             Sim      Privada   \n",
       "\n",
       "                     GrauDoCurso  RendimentoMensalDoTrabalho  \\\n",
       "0                            NaN                       800.0   \n",
       "1                            NaN                      1150.0   \n",
       "2        Superior - de graduaçã0                       880.0   \n",
       "3                            NaN                      3000.0   \n",
       "4  Regular do ensino fundamental                         NaN   \n",
       "\n",
       "  UtilizouInternetNoUltimoMês PossuiCelular  RendimentoMensalTotal  \n",
       "0                         Sim           Sim                  800.0  \n",
       "1                         Sim           Sim                 1150.0  \n",
       "2                         Sim           Sim                  880.0  \n",
       "3                         Sim           Sim                 3000.0  \n",
       "4                         Sim           Sim                    0.0  "
      ]
     },
     "execution_count": 11,
     "metadata": {},
     "output_type": "execute_result"
    }
   ],
   "source": [
    "cut15=tabela15.loc[:,['V0101','UF','V0302','V8005','V0601','V0602','V6002','V6003','V9532','V06111','V06112','V4720']]\n",
    "\n",
    "cut15=cut15.rename(columns={'V0101': 'Ano'})\n",
    "cut15=cut15.rename(columns={'UF': 'Estado'})\n",
    "cut15=cut15.rename(columns={'V0302': 'Sexo'})\n",
    "cut15=cut15.rename(columns={'V8005': 'Idade'})\n",
    "cut15=cut15.rename(columns={'V0601': 'LerEscrever'})\n",
    "cut15=cut15.rename(columns={'V0602': 'FrequentaEscola'})\n",
    "cut15=cut15.rename(columns={'V6002': 'RedeDeEnsino'})\n",
    "cut15=cut15.rename(columns={'V6003': 'GrauDoCurso'})\n",
    "cut15=cut15.rename(columns={'V9532': 'RendimentoMensalDoTrabalho'}) #Quantitativa\n",
    "cut15=cut15.rename(columns={'V06111': 'UtilizouInternetNoUltimoMês'})\n",
    "cut15=cut15.rename(columns={'V06112': 'PossuiCelular'})\n",
    "cut15=cut15.rename(columns={'V4720': 'RendimentoMensalTotal'}) #Quantitativa\n",
    "\n",
    "cut15.Sexo=cut15.Sexo.astype(\"category\")\n",
    "cut15.Sexo.cat.categories=('Masculino','Feminino')\n",
    "cut15.LerEscrever=cut15.LerEscrever.astype(\"category\")\n",
    "cut15.LerEscrever.cat.categories=('Sim','Não')\n",
    "cut15.FrequentaEscola=cut15.FrequentaEscola.astype(\"category\")\n",
    "cut15.FrequentaEscola.cat.categories=('Sim','Não')\n",
    "cut15.RedeDeEnsino=cut15.RedeDeEnsino.astype(\"category\")\n",
    "cut15.RedeDeEnsino.cat.categories=('Pública','Privada') \n",
    "cut15.GrauDoCurso=cut15.GrauDoCurso.astype(\"category\")\n",
    "cut15.GrauDoCurso.cat.categories=('Regular do ensino fundamental',\"Regular do ensino médio\",\"Educação de jovens e adultos ou supletivo do ensino fundamental\", \"Educação de jovens e adultos ou supletivo do ensino médio\",\"Superior - de graduaçã0\",\"Alfabetização de jovens e adultos\",\"Creche\",\"Classe de alfabetização - CA\",\" Maternal, jardim de infância etc.\",\"Pré-vestibular\",\"Mestrado ou doutorado\")\n",
    "cut15.UtilizouInternetNoUltimoMês=cut15.UtilizouInternetNoUltimoMês.astype(\"category\")\n",
    "cut15.UtilizouInternetNoUltimoMês.cat.categories=('Sim','Não')\n",
    "cut15.PossuiCelular=cut15.PossuiCelular.astype(\"category\")\n",
    "cut15.PossuiCelular.cat.categories=('Sim','Não')\n",
    "cut15.head()"
   ]
  },
  {
   "cell_type": "markdown",
   "metadata": {},
   "source": [
    "### 1) Para começarmos a analisar os dados, primeiro irei observer algumas variáveis que serão essenciais para tomarmos decisões futuras, basicamente irão mostrar percentuais de pessoas da população brasileira quanto aos aspectos: saber ler e escrever, frequentar escola, qual a rede de ensino e o grau do curso."
   ]
  },
  {
   "cell_type": "markdown",
   "metadata": {},
   "source": [
    "## Saber ler e escrever"
   ]
  },
  {
   "cell_type": "code",
   "execution_count": 24,
   "metadata": {},
   "outputs": [
    {
     "data": {
      "image/png": "[encoded data removed]",
      "text/plain": [
       "<matplotlib.figure.Figure at 0x20012bc77f0>"
      ]
     },
     "metadata": {},
     "output_type": "display_data"
    }
   ],
   "source": [
    "d11=(cut11.LerEscrever.value_counts(sort=False, normalize=True)*100).round(decimals=1)\n",
    "fig=plt.figure(figsize=(15, 5))\n",
    "plt.subplot(131)\n",
    "plot=d11.plot(kind='pie',title='SABE LER E ESCREVER (2011)',autopct='%.1f')                        \n",
    "\n",
    "d15=(cut15.LerEscrever.value_counts(sort=False, normalize=True)*100).round(decimals=1)\n",
    "plt.subplot(132)\n",
    "plot=d15.plot(kin d='pie',title='SABE LER E ESCREVER (2015)',autopct='%.1f')                        \n",
    "                      \n",
    "plt.tight_layout()\n",
    "plt.show()"
   ]
  },
  {
   "cell_type": "markdown",
   "metadata": {},
   "source": [
    "## Frequenta escola"
   ]
  },
  {
   "cell_type": "code",
   "execution_count": 26,
   "metadata": {},
   "outputs": [
    {
     "data": {
      "image/png": "[encoded data removed]",
      "text/plain": [
       "<matplotlib.figure.Figure at 0x20012d475f8>"
      ]
     },
     "metadata": {},
     "output_type": "display_data"
    }
   ],
   "source": [
    "d11=(cut11.FrequentaEscola.value_counts(sort=False, normalize=True)*100).round(decimals=1)\n",
    "fig=plt.figure(figsize=(15, 5))\n",
    "plt.subplot(131)\n",
    "plot=d11.plot(kind='pie',title='FREQUENTA ESCOLA (2011)',autopct='%.1f')                        \n",
    "\n",
    "d15=(cut15.FrequentaEscola.value_counts(sort=False, normalize=True)*100).round(decimals=1)\n",
    "plt.subplot(132)\n",
    "plot=d15.plot(kind='pie',title='FREQUENTA ESCOLA (2015)',autopct='%.1f')                        \n",
    "                      \n",
    "plt.tight_layout()\n",
    "plt.show()"
   ]
  },
  {
   "cell_type": "markdown",
   "metadata": {},
   "source": [
    "## Rede de Ensino: Pública ou Privada"
   ]
  },
  {
   "cell_type": "code",
   "execution_count": 22,
   "metadata": {},
   "outputs": [
    {
     "data": {
      "image/png": "[encoded data removed]",
      "text/plain": [
       "<matplotlib.figure.Figure at 0x2000e044588>"
      ]
     },
     "metadata": {},
     "output_type": "display_data"
    }
   ],
   "source": [
    "d11=(cut11.RedeDeEnsino.value_counts(sort=False, normalize=True)*100).round(decimals=1)\n",
    "fig=plt.figure(figsize=(15, 5))\n",
    "plt.subplot(131)\n",
    "plot=d11.plot(kind='pie',title='REDE DE ENSINO (2011)',autopct='%.1f')                        \n",
    "\n",
    "d15=(cut15.RedeDeEnsino.value_counts(sort=False, normalize=True)*100).round(decimals=1)\n",
    "plt.subplot(132)\n",
    "plot=d15.plot(kind='pie',title='REDE DE ENSINO (2015)',autopct='%.1f')                        \n",
    "                      \n",
    "plt.tight_layout()\n",
    "plt.show()"
   ]
  },
  {
   "cell_type": "markdown",
   "metadata": {},
   "source": [
    "## Grau do Curso"
   ]
  },
  {
   "cell_type": "code",
   "execution_count": 46,
   "metadata": {},
   "outputs": [
    {
     "data": {
      "image/png": "[encoded data removed]",
      "text/plain": [
       "<matplotlib.figure.Figure at 0x20016892d30>"
      ]
     },
     "metadata": {},
     "output_type": "display_data"
    }
   ],
   "source": [
    "fig=plt.figure(figsize=(15, 5))\n",
    "evc = cut11.GrauDoCurso.value_counts()\n",
    "evc.plot(kind='bar', color=('yellow', 'salmon', 'blue', 'red', 'green'),  legend=False, title='Grau do Curso (2011)')\n",
    "plt.show()"
   ]
  },
  {
   "cell_type": "markdown",
   "metadata": {},
   "source": [
    "### Observações: Com essas informações que retiramos a partir da analise dos gráficos acima, podemos concluir que mais de 80% da população sabe ler e escrever, 70% não frequenta escola e que a rede privada concentra apenas 20% da população dos estudantes brasileiros.\n",
    "### A partir desses resultados, daqui pra frente não irei considerar mais a coluna \"Frequentar Escola\" pois existem pessoas que ja frequentaram escola e não frequentam mais por isso não constam nesses dados, com isso ela será irrelevante nos nossos estudos.\n",
    "### Entretanto as colunas \"Rede de Ensino\" e \"Ler e escrever\" serão essenciais para concluirmos os resultados, assim como o \"Grau do Curso\".\n",
    "### Outro iteração importante que irei realizar a partir de agora é de adotar apenas um dos anos, pois como visto nos gráficos acima, a variação dos dados escolhidos entre 2011 e 2015 foi pequena. Adotaremos apenas 2015, já que é mais recente, depois retomaremos com os dois anos para fazer algumas comparações."
   ]
  },
  {
   "cell_type": "markdown",
   "metadata": {},
   "source": [
    "## Trabalhando com variáveis do tipo Quantitativa"
   ]
  },
  {
   "cell_type": "markdown",
   "metadata": {},
   "source": [
    "### Para trabalharmos com variáveis quantitativas, devemos fazer um arrange com as faixas que queremos trabalhar. Por isso antes disso vou dar o comando describe( ) na coluna desejada, para depois escolher como vão ser ordenadas as faixas."
   ]
  },
  {
   "cell_type": "code",
   "execution_count": 14,
   "metadata": {},
   "outputs": [
    {
     "data": {
      "text/plain": [
       "count    1.573390e+05\n",
       "mean     3.795626e+10\n",
       "std      1.910911e+11\n",
       "min      1.000000e+00\n",
       "25%      5.450000e+02\n",
       "50%      8.000000e+02\n",
       "75%      1.500000e+03\n",
       "max      1.000000e+12\n",
       "Name: RendimentoMensalDotrabalho, dtype: float64"
      ]
     },
     "execution_count": 14,
     "metadata": {},
     "output_type": "execute_result"
    }
   ],
   "source": [
    "cut11.RendimentoMensalDotrabalho.describe()"
   ]
  },
  {
   "cell_type": "markdown",
   "metadata": {},
   "source": [
    "### O valor máximo é muito mais alto em ordem de grandeza do que 75%, por isso quando eu for montar o arrange, vou usar como valor máximo 3000, que é um pouco acima de 75% (1500), para não distorcer meus gráficos. Além disso essa simplificação não afetará os resultados pois são poucos os valores muito altos, então sua retirada não será prejudicial.\n",
    "### Vou dividir minhas faixas de 100 em 100, pois assim consigo um número de faixas bom para análises."
   ]
  },
  {
   "cell_type": "markdown",
   "metadata": {},
   "source": [
    "## Rendimento Mensal do Trabalho"
   ]
  },
  {
   "cell_type": "code",
   "execution_count": 44,
   "metadata": {},
   "outputs": [
    {
     "data": {
      "text/plain": [
       "<matplotlib.axes._subplots.AxesSubplot at 0x20013cf1d68>"
      ]
     },
     "execution_count": 44,
     "metadata": {},
     "output_type": "execute_result"
    },
    {
     "data": {
      "image/png": "[encoded data removed]",
      "text/plain": [
       "<matplotlib.figure.Figure at 0x2001662eb70>"
      ]
     },
     "metadata": {},
     "output_type": "display_data"
    }
   ],
   "source": [
    "FaixasRenda = arange(1,3000,100)\n",
    "Renda_cat = pd.cut(cut11.RendimentoMensalDotrabalho,bins = FaixasRenda,right = True)\n",
    "ut1 = (Renda_cat.value_counts(sort = False, normalize = True)*100).round(decimals=1)\n",
    "#print(ut1,\"\\n\")\n",
    "cut11.RendimentoMensalDotrabalho.plot.hist(bins = FaixasRenda)"
   ]
  },
  {
   "cell_type": "markdown",
   "metadata": {},
   "source": [
    "## Rendimento Mensal Total"
   ]
  },
  {
   "cell_type": "code",
   "execution_count": 45,
   "metadata": {},
   "outputs": [
    {
     "data": {
      "text/plain": [
       "<matplotlib.axes._subplots.AxesSubplot at 0x20013df7eb8>"
      ]
     },
     "execution_count": 45,
     "metadata": {},
     "output_type": "execute_result"
    },
    {
     "data": {
      "image/png": "[encoded data removed]",
      "text/plain": [
       "<matplotlib.figure.Figure at 0x2001582d860>"
      ]
     },
     "metadata": {},
     "output_type": "display_data"
    }
   ],
   "source": [
    "FaixasRenda = arange(1,3000,100)\n",
    "Renda_cat = pd.cut(cut11.RendimentoMensalTotal,bins = FaixasRenda,right = True)\n",
    "ut1 = (Renda_cat.value_counts(sort = False, normalize = True)*100).round(decimals=1)\n",
    "#print(ut1,\"\\n\")\n",
    "cut11.RendimentoMensalTotal.plot.hist(bins = FaixasRenda)"
   ]
  },
  {
   "cell_type": "markdown",
   "metadata": {},
   "source": [
    "### Observação: Como as colunas \"Rendimento Mensal Total\" e \"Rendimento Mensal do Trabalho\" são práticamente iguais, vou considerar a partir de agora apenas uma delas, que será Rendimento Mensal Total\"."
   ]
  },
  {
   "cell_type": "markdown",
   "metadata": {},
   "source": [
    "## 2) Agora que ja sabemos o comportamento básico da população brasileira em tais aspectos, vamos começar a relacionar as variáveis que realmente importam para o nosso trabalho, e a partir delas tomar decisões mais aprofundadas e que buscam responder algumas perguntas pertinentes."
   ]
  },
  {
   "cell_type": "markdown",
   "metadata": {},
   "source": [
    "### Para começar,  vou montar um gráfico Stacked e utilizar o crosstab para comparar duas variáveis, possuir celular e qual a rede de ensino, em frequencias relativas."
   ]
  },
  {
   "cell_type": "code",
   "execution_count": 35,
   "metadata": {
    "collapsed": true
   },
   "outputs": [],
   "source": [
    "def percConvert(tab):\n",
    "  return (tab/float(tab[-1])*100).round(decimals=0)"
   ]
  },
  {
   "cell_type": "code",
   "execution_count": 55,
   "metadata": {},
   "outputs": [
    {
     "data": {
      "text/html": [
       "<div>\n",
       "<style>\n",
       "    .dataframe thead tr:only-child th {\n",
       "        text-align: right;\n",
       "    }\n",
       "\n",
       "    .dataframe thead th {\n",
       "        text-align: left;\n",
       "    }\n",
       "\n",
       "    .dataframe tbody tr th {\n",
       "        vertical-align: top;\n",
       "    }\n",
       "</style>\n",
       "<table border=\"1\" class=\"dataframe\">\n",
       "  <thead>\n",
       "    <tr style=\"text-align: right;\">\n",
       "      <th>Celular</th>\n",
       "      <th>Sim</th>\n",
       "      <th>Não</th>\n",
       "      <th>All</th>\n",
       "    </tr>\n",
       "    <tr>\n",
       "      <th>Educação</th>\n",
       "      <th></th>\n",
       "      <th></th>\n",
       "      <th></th>\n",
       "    </tr>\n",
       "  </thead>\n",
       "  <tbody>\n",
       "    <tr>\n",
       "      <th>Pública</th>\n",
       "      <td>67.0</td>\n",
       "      <td>94.0</td>\n",
       "      <td>74.0</td>\n",
       "    </tr>\n",
       "    <tr>\n",
       "      <th>Privada</th>\n",
       "      <td>33.0</td>\n",
       "      <td>6.0</td>\n",
       "      <td>26.0</td>\n",
       "    </tr>\n",
       "    <tr>\n",
       "      <th>All</th>\n",
       "      <td>100.0</td>\n",
       "      <td>100.0</td>\n",
       "      <td>100.0</td>\n",
       "    </tr>\n",
       "  </tbody>\n",
       "</table>\n",
       "</div>"
      ],
      "text/plain": [
       "Celular     Sim    Não    All\n",
       "Educação                     \n",
       "Pública    67.0   94.0   74.0\n",
       "Privada    33.0    6.0   26.0\n",
       "All       100.0  100.0  100.0"
      ]
     },
     "execution_count": 55,
     "metadata": {},
     "output_type": "execute_result"
    }
   ],
   "source": [
    "ct3=pd.crosstab(cut15.RedeDeEnsino,cut15.PossuiCelular,margins=True,rownames=['Educação'], colnames=['Celular']).apply(percConvert, axis=0)\n",
    "ct3"
   ]
  },
  {
   "cell_type": "code",
   "execution_count": 39,
   "metadata": {},
   "outputs": [
    {
     "data": {
      "text/plain": [
       "<matplotlib.legend.Legend at 0x20b3436a400>"
      ]
     },
     "execution_count": 39,
     "metadata": {},
     "output_type": "execute_result"
    },
    {
     "data": {
      "image/png": "[encoded data removed]",
      "text/plain": [
       "<matplotlib.figure.Figure at 0x20b355bb128>"
      ]
     },
     "metadata": {},
     "output_type": "display_data"
    }
   ],
   "source": [
    "ct3 = ct3.iloc[0:5,:]\n",
    "plot = ct3.T.plot(kind='bar', stacked=True,title='Celular por Rede de Ensino')\n",
    "plot.set_ylim([0, 100])\n",
    "plt.ylabel('Freq.Relativa (em%)')\n",
    "\n",
    "#Para legenda ficar fora do gráfico\n",
    "ax = plt.subplot(111)\n",
    "box = ax.get_position()\n",
    "ax.set_position([box.x0, box.y0, box.width * 0.8, box.height])\n",
    "ax.legend(loc='center left', bbox_to_anchor=(1, 0.5))"
   ]
  },
  {
   "cell_type": "markdown",
   "metadata": {},
   "source": [
    "### Conclusão: O gráfico fica confuso e podemos tirar conclusões equivocadas a partir dele. Mesmo o gráfico mostrando frequências relativas, fica entendido que maior parte das pessoas que possuem celular, estudam em escolas públicas, de acordo com o gráfico, isso é verdade. Porém existem mais pessoas estudando em escolas públicas, por isso o número de pessoas que possuem celulares também é maior. Devemos olhar de outra maneira se quisermos analisar esses dados de maneira mais eficaz e certeira para nossas perguntas."
   ]
  },
  {
   "cell_type": "markdown",
   "metadata": {},
   "source": [
    "## Pessoas com maior grau de escolaridade, possuem maior renda? \n",
    "### Para responder essa pergunta, filtrei a base de dados e nela selecionei apenas o grau do curso (estou comparando pessoas que concluiram o ensino médio com pessoas com nível superior de graduação completo) e o rendimento mensal total."
   ]
  },
  {
   "cell_type": "code",
   "execution_count": 12,
   "metadata": {},
   "outputs": [
    {
     "data": {
      "text/plain": [
       "count    15552.000000\n",
       "mean       152.197145\n",
       "std        441.152600\n",
       "min          0.000000\n",
       "25%          0.000000\n",
       "50%          0.000000\n",
       "75%          0.000000\n",
       "max      30000.000000\n",
       "Name: RendimentoMensalTotal, dtype: float64"
      ]
     },
     "execution_count": 12,
     "metadata": {},
     "output_type": "execute_result"
    }
   ],
   "source": [
    "EM=cut15[(cut15.GrauDoCurso == [\"Regular do ensino médio\"])& (cut15.RendimentoMensalTotal < 100000000)] \n",
    "EM.RendimentoMensalTotal.describe()\n",
    "#Total de pessoas com ensino médio completo 15000"
   ]
  },
  {
   "cell_type": "code",
   "execution_count": 16,
   "metadata": {},
   "outputs": [],
   "source": [
    "#dfc = EM.RendimentoMensalTotal.value_counts()\n",
    "#dfc.plot(kind='bar', color=('blue', 'red'), legend=False)"
   ]
  },
  {
   "cell_type": "code",
   "execution_count": 17,
   "metadata": {},
   "outputs": [
    {
     "data": {
      "text/plain": [
       "count    13300.000000\n",
       "mean      1045.565940\n",
       "std       1501.104443\n",
       "min          0.000000\n",
       "25%          0.000000\n",
       "50%        788.000000\n",
       "75%       1500.000000\n",
       "max      27700.000000\n",
       "Name: RendimentoMensalTotal, dtype: float64"
      ]
     },
     "execution_count": 17,
     "metadata": {},
     "output_type": "execute_result"
    }
   ],
   "source": [
    "ES=cut15[(cut15.GrauDoCurso == [\"Superior - de graduaçã0\"] )& (cut15.RendimentoMensalTotal < 100000000)]\n",
    "ES.RendimentoMensalTotal.describe()\n",
    "#Total de pessoas com nível superior de gradução 13000"
   ]
  },
  {
   "cell_type": "markdown",
   "metadata": {},
   "source": [
    "### Conclusão: Pessoas com maior grau de escolaridade, possuem maior renda. Nossa base de dados mostrou que a média do rendimento mensal das pessoas que possuem o nível superior concluído (1045,00) é maior do que as que apenas concluiram o ensino médio (152,00). "
   ]
  },
  {
   "cell_type": "markdown",
   "metadata": {},
   "source": [
    "## Pessoas com maior renda possuem maior acesso a tecnologia?"
   ]
  },
  {
   "cell_type": "markdown",
   "metadata": {},
   "source": [
    "### Para não ocorrer o mesmo erro de interpretação do gráfico Stacked, agora nessa comparação, vou utilizar outro método, mais justo, que consiste em:"
   ]
  },
  {
   "cell_type": "code",
   "execution_count": 28,
   "metadata": {},
   "outputs": [],
   "source": [
    "#cut15[(cut15.RendimentoMensalTotal < 100000000)& (cut15.RendimentoMensalTotal > 1500)]\n",
    "#Total de colunas: 65224\n",
    "#cut15[(cut15.RendimentoMensalTotal > 1)& (cut15.RendimentoMensalTotal < 1500)]\n",
    "#Total de colunas: 139487"
   ]
  },
  {
   "cell_type": "code",
   "execution_count": 21,
   "metadata": {},
   "outputs": [
    {
     "data": {
      "text/plain": [
       "count     46813.000000\n",
       "mean       4209.425096\n",
       "std        4730.425291\n",
       "min        1502.000000\n",
       "25%        2000.000000\n",
       "50%        2900.000000\n",
       "75%        4500.000000\n",
       "max      200000.000000\n",
       "Name: RendimentoMensalTotal, dtype: float64"
      ]
     },
     "execution_count": 21,
     "metadata": {},
     "output_type": "execute_result"
    }
   ],
   "source": [
    "Maior=cut15[(cut15.UtilizouInternetNoUltimoMês == [\"Sim\"])& (cut15.PossuiCelular == [\"Sim\"]) & (cut15.RendimentoMensalTotal < 100000000)& (cut15.RendimentoMensalTotal > 1500)]\n",
    "Maior.RendimentoMensalTotal.describe()"
   ]
  },
  {
   "cell_type": "code",
   "execution_count": 23,
   "metadata": {},
   "outputs": [
    {
     "data": {
      "text/plain": [
       "count    60066.00000\n",
       "mean       842.45147\n",
       "std        341.24398\n",
       "min          3.00000\n",
       "25%        750.00000\n",
       "50%        850.00000\n",
       "75%       1100.00000\n",
       "max       1498.00000\n",
       "Name: RendimentoMensalTotal, dtype: float64"
      ]
     },
     "execution_count": 23,
     "metadata": {},
     "output_type": "execute_result"
    }
   ],
   "source": [
    "Menor=cut15[(cut15.UtilizouInternetNoUltimoMês == [\"Sim\"])& (cut15.PossuiCelular == [\"Sim\"]) & (cut15.RendimentoMensalTotal > 1)& (cut15.RendimentoMensalTotal < 1500)]\n",
    "Menor.RendimentoMensalTotal.describe()"
   ]
  },
  {
   "cell_type": "code",
   "execution_count": 34,
   "metadata": {},
   "outputs": [
    {
     "name": "stdout",
     "output_type": "stream",
     "text": [
      "71.77266037041579\n",
      "43.06207746958498\n"
     ]
    }
   ],
   "source": [
    "maior=46813/65224\n",
    "menor=60066/139487\n",
    "print(maior*100)\n",
    "print(menor*100)"
   ]
  },
  {
   "cell_type": "markdown",
   "metadata": {},
   "source": [
    "### Conclusão: Dividi, de acordo com o gráfico de rendimento mensal, em dois grupos, pessoas com renda menor que 1500,00 reais e pessoas com renda maior que 1500,00 reais e descobri quantas pessoas tinham em cada grupo. Depois disso analisei apenas as pessoas que possuem acesso a internet e têm celular nesses dois grupos de rendas, e o resultado foi que pessoas com maior renda possuem mais acesso a tecnologia (71% das pessoas com renda maior que 1500 reais tem acesso a internet e possuem celular) do que as pessoas com baixa renda (43% das pessoas que possuem renda menor que 1500 reais têm acesso a internet e possuem celular)"
   ]
  },
  {
   "cell_type": "markdown",
   "metadata": {},
   "source": [
    "## A utilização de internet / possuir celular subiu nos ultimos anos?"
   ]
  },
  {
   "cell_type": "code",
   "execution_count": 45,
   "metadata": {},
   "outputs": [
    {
     "data": {
      "text/plain": [
       "count     177667\n",
       "unique         1\n",
       "top          Sim\n",
       "freq      177667\n",
       "Name: UtilizouInternetNoUltimoMês, dtype: object"
      ]
     },
     "execution_count": 45,
     "metadata": {},
     "output_type": "execute_result"
    }
   ],
   "source": [
    "net15=cut15[(cut15.UtilizouInternetNoUltimoMês == [\"Sim\"])]\n",
    "net15.UtilizouInternetNoUltimoMês.describe()"
   ]
  },
  {
   "cell_type": "code",
   "execution_count": 46,
   "metadata": {},
   "outputs": [
    {
     "data": {
      "text/plain": [
       "count     141820\n",
       "unique         1\n",
       "top          Sim\n",
       "freq      141820\n",
       "Name: UtilizouInternetNoUltimoMês, dtype: object"
      ]
     },
     "execution_count": 46,
     "metadata": {},
     "output_type": "execute_result"
    }
   ],
   "source": [
    "net11=cut11[(cut11.UtilizouInternetNoUltimoMês == [\"Sim\"])]\n",
    "net11.UtilizouInternetNoUltimoMês.describe()"
   ]
  },
  {
   "cell_type": "code",
   "execution_count": 47,
   "metadata": {},
   "outputs": [
    {
     "data": {
      "text/plain": [
       "count     243444\n",
       "unique         1\n",
       "top          Sim\n",
       "freq      243444\n",
       "Name: PossuiCelular, dtype: object"
      ]
     },
     "execution_count": 47,
     "metadata": {},
     "output_type": "execute_result"
    }
   ],
   "source": [
    "net15=cut15[(cut15.PossuiCelular == [\"Sim\"])]\n",
    "net15.PossuiCelular.describe()"
   ]
  },
  {
   "cell_type": "code",
   "execution_count": 48,
   "metadata": {},
   "outputs": [
    {
     "data": {
      "text/plain": [
       "count     214191\n",
       "unique         1\n",
       "top          Sim\n",
       "freq      214191\n",
       "Name: PossuiCelular, dtype: object"
      ]
     },
     "execution_count": 48,
     "metadata": {},
     "output_type": "execute_result"
    }
   ],
   "source": [
    "net11=cut11[(cut11.PossuiCelular == [\"Sim\"])]\n",
    "net11.PossuiCelular.describe()"
   ]
  },
  {
   "cell_type": "code",
   "execution_count": 54,
   "metadata": {},
   "outputs": [
    {
     "data": {
      "image/png": "[encoded data removed]",
      "text/plain": [
       "<matplotlib.figure.Figure at 0x20b34ff59e8>"
      ]
     },
     "metadata": {},
     "output_type": "display_data"
    }
   ],
   "source": [
    "netcount=[141820,177667]\n",
    "celcount=[21419,243444]\n",
    "anos=[2011,2015]\n",
    "\n",
    "plt.plot(anos,netcount)\n",
    "plt.plot(anos,celcount)\n",
    "\n",
    "plt.legend([\"Acesso a Internet\",\"Possui Celular\"])\n",
    "plt.xlabel(\"Ano\")\n",
    "plt.ylabel(\"População\")\n",
    "plt.title(\"Evolução do acesso a Tecnologia \")\n",
    "plt.xticks([2011,2015])\n",
    "plt.show()"
   ]
  },
  {
   "cell_type": "markdown",
   "metadata": {},
   "source": [
    "___\n",
    "## Conclusão "
   ]
  },
  {
   "cell_type": "markdown",
   "metadata": {
    "collapsed": true
   },
   "source": [
    "### Com todas as analises de dados e de gráficos feitas acima, consegui responder com clareza as perguntas que eu gostaria de responder.\n",
    "### A princípio vários gráficos foram utilizados e parecem não mostram muitas informações, porém eles são essenciais para filtrarmos o que iremos usar em diante, sem eles fica difícil saber o que é útil e o que não é útil\n",
    "### Em suma, o grau de escolaridade reflete na renda individual, quanto maior o nível de escolaridade, maior será a renda do individuo. A conclusão mais importante que conseguimos retirar é que ter acesso a tecnologias está muito relacionado com a renda pessoal, quanto maior a renda, maior a probabilidade da pessoa ter acesso a tecnologia, (71% das pessoas com renda acima da média, possui acesso a tecnologia)\n",
    "### E para concluirmos, voltamos a trabalhar com dois anos e o gráfico nos mostrou que entre os anos de 2011 e 2015 mais pessoas adquiriram celulares e mais pessoas possuem acesso a internet, mostrando uma evolução quanto ao acesso a tecnologia nesses 4 anos no Brasil."
   ]
  }
 ],
 "metadata": {
  "anaconda-cloud": {},
  "kernelspec": {
   "display_name": "Python 3",
   "language": "python",
   "name": "python3"
  },
  "language_info": {
   "codemirror_mode": {
    "name": "ipython",
    "version": 3
   },
   "file_extension": ".py",
   "mimetype": "text/x-python",
   "name": "python",
   "nbconvert_exporter": "python",
   "pygments_lexer": "ipython3",
   "version": "3.6.1"
  }
 },
 "nbformat": 4,
 "nbformat_minor": 1
}
