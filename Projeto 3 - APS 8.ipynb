{
 "cells": [
  {
   "cell_type": "markdown",
   "metadata": {},
   "source": [
    "___\n",
    "# Ciência dos Dados - PROJETO 3 - INSPER"
   ]
  },
  {
   "cell_type": "markdown",
   "metadata": {},
   "source": [
    "___\n",
    "## Nome 1 - Augusto Franco de Paula\n",
    "\n",
    "## Nome 2 - Gabriel Heusi Pereira Bueno de Camargo\n",
    "\n",
    "## Nome 3 - Pedro Henrique Carvalho Daher\n",
    "\n",
    "___"
   ]
  },
  {
   "cell_type": "markdown",
   "metadata": {},
   "source": [
    "___\n",
    "\n",
    "# INTRODUÇÃO"
   ]
  },
  {
   "cell_type": "markdown",
   "metadata": {},
   "source": [
    "        A partir de um interesse sobre carros, o grupo optou por fazer um modelo de previsão dos preços de carros e ainda analisar aqueles considerados \"Overpriced\", ou seja acima do preço considerado padrão para determinado modelo. \n",
    "        A base de dados utilizada para o estudo é de 2017 e avalia apenas carros americanos, dessa forma deve-se explorar esta afim de possibilitar tal modelo de predição. Para isso será importante avaliar quais as variáveis de maior influência sobre o preço de um carro para que ao fim haja uma comparação entre o preço real do carro e seu preço esperado a partir das variáveis que o definem. Por fim a análise de carros acima do preço servirá como dado de eficiência do estudo \n",
    "        Dessa forma baseou-se em artigos cientificos e estudos que avaliam os modelos de distribuicão destes preços, entre eles estão: "
   ]
  },
  {
   "cell_type": "markdown",
   "metadata": {},
   "source": [
    "___\n",
    "# MINERANDO DADOS e CARACTERÍSTICAS DO DATASET"
   ]
  },
  {
   "cell_type": "code",
   "execution_count": 166,
   "metadata": {},
   "outputs": [],
   "source": [
    "import pandas as pd\n",
    "import matplotlib.pyplot as plt\n",
    "from sklearn.utils import shuffle\n",
    "import os\n",
    "import math\n",
    "from sklearn.linear_model import Ridge, Lasso\n",
    "from sys import stdin\n",
    "from numpy import arange\n",
    "import numpy as np\n",
    "import seaborn as sns\n",
    "from sklearn import preprocessing, cross_validation, neighbors"
   ]
  },
  {
   "cell_type": "code",
   "execution_count": 167,
   "metadata": {},
   "outputs": [
    {
     "name": "stdout",
     "output_type": "stream",
     "text": [
      "Esperamos trabalhar no diretório\n",
      "C:\\Users\\Augusto\\Desktop\\DP Ciência dos Dados\\Projeto3\n"
     ]
    }
   ],
   "source": [
    "print('Esperamos trabalhar no diretório')\n",
    "print(os.getcwd())\n",
    "data = pd.read_csv('data.csv')\n"
   ]
  },
  {
   "cell_type": "markdown",
   "metadata": {},
   "source": [
    "# BASE DE DADOS"
   ]
  },
  {
   "cell_type": "code",
   "execution_count": 168,
   "metadata": {},
   "outputs": [
    {
     "data": {
      "text/html": [
       "<div>\n",
       "<table border=\"1\" class=\"dataframe\">\n",
       "  <thead>\n",
       "    <tr style=\"text-align: right;\">\n",
       "      <th></th>\n",
       "      <th>Make</th>\n",
       "      <th>Model</th>\n",
       "      <th>Year</th>\n",
       "      <th>Engine Fuel Type</th>\n",
       "      <th>Engine HP</th>\n",
       "      <th>Engine Cylinders</th>\n",
       "      <th>Transmission Type</th>\n",
       "      <th>Driven_Wheels</th>\n",
       "      <th>Number of Doors</th>\n",
       "      <th>Market Category</th>\n",
       "      <th>Vehicle Size</th>\n",
       "      <th>Vehicle Style</th>\n",
       "      <th>highway MPG</th>\n",
       "      <th>city mpg</th>\n",
       "      <th>Popularity</th>\n",
       "      <th>MSRP</th>\n",
       "    </tr>\n",
       "  </thead>\n",
       "  <tbody>\n",
       "    <tr>\n",
       "      <th>4125</th>\n",
       "      <td>Cadillac</td>\n",
       "      <td>Escalade ESV</td>\n",
       "      <td>2017</td>\n",
       "      <td>premium unleaded (recommended)</td>\n",
       "      <td>420.0</td>\n",
       "      <td>8.0</td>\n",
       "      <td>AUTOMATIC</td>\n",
       "      <td>four wheel drive</td>\n",
       "      <td>4.0</td>\n",
       "      <td>Luxury,Performance</td>\n",
       "      <td>Large</td>\n",
       "      <td>4dr SUV</td>\n",
       "      <td>20</td>\n",
       "      <td>15</td>\n",
       "      <td>1624</td>\n",
       "      <td>78995</td>\n",
       "    </tr>\n",
       "    <tr>\n",
       "      <th>9281</th>\n",
       "      <td>GMC</td>\n",
       "      <td>Sierra 1500 Classic</td>\n",
       "      <td>2007</td>\n",
       "      <td>regular unleaded</td>\n",
       "      <td>285.0</td>\n",
       "      <td>8.0</td>\n",
       "      <td>AUTOMATIC</td>\n",
       "      <td>rear wheel drive</td>\n",
       "      <td>2.0</td>\n",
       "      <td>Flex Fuel</td>\n",
       "      <td>Large</td>\n",
       "      <td>Regular Cab Pickup</td>\n",
       "      <td>19</td>\n",
       "      <td>15</td>\n",
       "      <td>549</td>\n",
       "      <td>24140</td>\n",
       "    </tr>\n",
       "    <tr>\n",
       "      <th>8366</th>\n",
       "      <td>Aston Martin</td>\n",
       "      <td>Rapide S</td>\n",
       "      <td>2014</td>\n",
       "      <td>premium unleaded (required)</td>\n",
       "      <td>550.0</td>\n",
       "      <td>12.0</td>\n",
       "      <td>AUTOMATIC</td>\n",
       "      <td>rear wheel drive</td>\n",
       "      <td>4.0</td>\n",
       "      <td>Exotic,High-Performance</td>\n",
       "      <td>Large</td>\n",
       "      <td>Sedan</td>\n",
       "      <td>19</td>\n",
       "      <td>13</td>\n",
       "      <td>259</td>\n",
       "      <td>198250</td>\n",
       "    </tr>\n",
       "    <tr>\n",
       "      <th>3447</th>\n",
       "      <td>Dodge</td>\n",
       "      <td>Dakota</td>\n",
       "      <td>2008</td>\n",
       "      <td>regular unleaded</td>\n",
       "      <td>302.0</td>\n",
       "      <td>8.0</td>\n",
       "      <td>AUTOMATIC</td>\n",
       "      <td>rear wheel drive</td>\n",
       "      <td>4.0</td>\n",
       "      <td>NaN</td>\n",
       "      <td>Compact</td>\n",
       "      <td>Crew Cab Pickup</td>\n",
       "      <td>19</td>\n",
       "      <td>14</td>\n",
       "      <td>1851</td>\n",
       "      <td>28520</td>\n",
       "    </tr>\n",
       "    <tr>\n",
       "      <th>11461</th>\n",
       "      <td>Subaru</td>\n",
       "      <td>WRX</td>\n",
       "      <td>2016</td>\n",
       "      <td>premium unleaded (recommended)</td>\n",
       "      <td>268.0</td>\n",
       "      <td>4.0</td>\n",
       "      <td>MANUAL</td>\n",
       "      <td>all wheel drive</td>\n",
       "      <td>4.0</td>\n",
       "      <td>Performance</td>\n",
       "      <td>Compact</td>\n",
       "      <td>Sedan</td>\n",
       "      <td>27</td>\n",
       "      <td>20</td>\n",
       "      <td>640</td>\n",
       "      <td>28895</td>\n",
       "    </tr>\n",
       "  </tbody>\n",
       "</table>\n",
       "</div>"
      ],
      "text/plain": [
       "               Make                Model  Year  \\\n",
       "4125       Cadillac         Escalade ESV  2017   \n",
       "9281            GMC  Sierra 1500 Classic  2007   \n",
       "8366   Aston Martin             Rapide S  2014   \n",
       "3447          Dodge               Dakota  2008   \n",
       "11461        Subaru                  WRX  2016   \n",
       "\n",
       "                     Engine Fuel Type  Engine HP  Engine Cylinders  \\\n",
       "4125   premium unleaded (recommended)      420.0               8.0   \n",
       "9281                 regular unleaded      285.0               8.0   \n",
       "8366      premium unleaded (required)      550.0              12.0   \n",
       "3447                 regular unleaded      302.0               8.0   \n",
       "11461  premium unleaded (recommended)      268.0               4.0   \n",
       "\n",
       "      Transmission Type     Driven_Wheels  Number of Doors  \\\n",
       "4125          AUTOMATIC  four wheel drive              4.0   \n",
       "9281          AUTOMATIC  rear wheel drive              2.0   \n",
       "8366          AUTOMATIC  rear wheel drive              4.0   \n",
       "3447          AUTOMATIC  rear wheel drive              4.0   \n",
       "11461            MANUAL   all wheel drive              4.0   \n",
       "\n",
       "               Market Category Vehicle Size       Vehicle Style  highway MPG  \\\n",
       "4125        Luxury,Performance        Large             4dr SUV           20   \n",
       "9281                 Flex Fuel        Large  Regular Cab Pickup           19   \n",
       "8366   Exotic,High-Performance        Large               Sedan           19   \n",
       "3447                       NaN      Compact     Crew Cab Pickup           19   \n",
       "11461              Performance      Compact               Sedan           27   \n",
       "\n",
       "       city mpg  Popularity    MSRP  \n",
       "4125         15        1624   78995  \n",
       "9281         15         549   24140  \n",
       "8366         13         259  198250  \n",
       "3447         14        1851   28520  \n",
       "11461        20         640   28895  "
      ]
     },
     "execution_count": 168,
     "metadata": {},
     "output_type": "execute_result"
    }
   ],
   "source": [
    "data = shuffle(data)\n",
    "data.head()"
   ]
  },
  {
   "cell_type": "code",
   "execution_count": 169,
   "metadata": {},
   "outputs": [
    {
     "data": {
      "text/plain": [
       "<matplotlib.axes._subplots.AxesSubplot at 0x1e34161b4e0>"
      ]
     },
     "execution_count": 169,
     "metadata": {},
     "output_type": "execute_result"
    }
   ],
   "source": [
    "sns.heatmap(data.corr(), annot=True, fmt=\".1f\")"
   ]
  },
  {
   "cell_type": "markdown",
   "metadata": {},
   "source": [
    "### A partir do mapa mostrado acima é possível identificar a influência (correlação) de uma variável sobre o preço de um carro. Dessa forma basta analisar e perceber que as três que apresentam maior proporcionalidade são: Ano de fabricação (Year), Potência do Motor (Engine HP) e número de cilindros (Engine Cylinders). Vale lembrar que isto era esperado, afinal essa ferramenta só é capaz de comparar dados quantitativos."
   ]
  },
  {
   "cell_type": "markdown",
   "metadata": {},
   "source": [
    "# Análise Descritiva"
   ]
  },
  {
   "cell_type": "markdown",
   "metadata": {},
   "source": [
    "### A partir desta seção será reavaliada a ideia das variáveis e sua distribuição de acordo com o preço. Como por exemplo a \"Engine Cylinders\" será categorizado como uma espécie de força fornecida pelos cilindros ao carro e ainda observar onde a predominância do preço dos carros, separando em faixas de valor de compra/venda. "
   ]
  },
  {
   "cell_type": "code",
   "execution_count": 170,
   "metadata": {},
   "outputs": [
    {
     "data": {
      "text/html": [
       "<div>\n",
       "<table border=\"1\" class=\"dataframe\">\n",
       "  <thead>\n",
       "    <tr style=\"text-align: right;\">\n",
       "      <th></th>\n",
       "      <th>Ano</th>\n",
       "      <th>Potência</th>\n",
       "      <th>Cilindros</th>\n",
       "      <th>Price</th>\n",
       "    </tr>\n",
       "  </thead>\n",
       "  <tbody>\n",
       "    <tr>\n",
       "      <th>4125</th>\n",
       "      <td>2017</td>\n",
       "      <td>420.0</td>\n",
       "      <td>8.0</td>\n",
       "      <td>78995</td>\n",
       "    </tr>\n",
       "    <tr>\n",
       "      <th>9281</th>\n",
       "      <td>2007</td>\n",
       "      <td>285.0</td>\n",
       "      <td>8.0</td>\n",
       "      <td>24140</td>\n",
       "    </tr>\n",
       "    <tr>\n",
       "      <th>3447</th>\n",
       "      <td>2008</td>\n",
       "      <td>302.0</td>\n",
       "      <td>8.0</td>\n",
       "      <td>28520</td>\n",
       "    </tr>\n",
       "    <tr>\n",
       "      <th>11461</th>\n",
       "      <td>2016</td>\n",
       "      <td>268.0</td>\n",
       "      <td>4.0</td>\n",
       "      <td>28895</td>\n",
       "    </tr>\n",
       "    <tr>\n",
       "      <th>11087</th>\n",
       "      <td>2008</td>\n",
       "      <td>240.0</td>\n",
       "      <td>6.0</td>\n",
       "      <td>21540</td>\n",
       "    </tr>\n",
       "    <tr>\n",
       "      <th>2055</th>\n",
       "      <td>2017</td>\n",
       "      <td>205.0</td>\n",
       "      <td>4.0</td>\n",
       "      <td>29695</td>\n",
       "    </tr>\n",
       "    <tr>\n",
       "      <th>5347</th>\n",
       "      <td>2013</td>\n",
       "      <td>302.0</td>\n",
       "      <td>6.0</td>\n",
       "      <td>37090</td>\n",
       "    </tr>\n",
       "    <tr>\n",
       "      <th>1270</th>\n",
       "      <td>2017</td>\n",
       "      <td>278.0</td>\n",
       "      <td>6.0</td>\n",
       "      <td>34375</td>\n",
       "    </tr>\n",
       "    <tr>\n",
       "      <th>7933</th>\n",
       "      <td>2015</td>\n",
       "      <td>230.0</td>\n",
       "      <td>4.0</td>\n",
       "      <td>45400</td>\n",
       "    </tr>\n",
       "    <tr>\n",
       "      <th>7232</th>\n",
       "      <td>1995</td>\n",
       "      <td>205.0</td>\n",
       "      <td>6.0</td>\n",
       "      <td>2000</td>\n",
       "    </tr>\n",
       "    <tr>\n",
       "      <th>2594</th>\n",
       "      <td>2017</td>\n",
       "      <td>174.0</td>\n",
       "      <td>4.0</td>\n",
       "      <td>22300</td>\n",
       "    </tr>\n",
       "    <tr>\n",
       "      <th>6854</th>\n",
       "      <td>2017</td>\n",
       "      <td>240.0</td>\n",
       "      <td>4.0</td>\n",
       "      <td>41895</td>\n",
       "    </tr>\n",
       "    <tr>\n",
       "      <th>9196</th>\n",
       "      <td>1998</td>\n",
       "      <td>120.0</td>\n",
       "      <td>4.0</td>\n",
       "      <td>2078</td>\n",
       "    </tr>\n",
       "    <tr>\n",
       "      <th>6786</th>\n",
       "      <td>2017</td>\n",
       "      <td>290.0</td>\n",
       "      <td>6.0</td>\n",
       "      <td>58400</td>\n",
       "    </tr>\n",
       "    <tr>\n",
       "      <th>2362</th>\n",
       "      <td>2004</td>\n",
       "      <td>140.0</td>\n",
       "      <td>4.0</td>\n",
       "      <td>10135</td>\n",
       "    </tr>\n",
       "    <tr>\n",
       "      <th>2436</th>\n",
       "      <td>2004</td>\n",
       "      <td>140.0</td>\n",
       "      <td>4.0</td>\n",
       "      <td>17570</td>\n",
       "    </tr>\n",
       "    <tr>\n",
       "      <th>2233</th>\n",
       "      <td>2008</td>\n",
       "      <td>210.0</td>\n",
       "      <td>6.0</td>\n",
       "      <td>27440</td>\n",
       "    </tr>\n",
       "    <tr>\n",
       "      <th>3750</th>\n",
       "      <td>2014</td>\n",
       "      <td>225.0</td>\n",
       "      <td>8.0</td>\n",
       "      <td>32675</td>\n",
       "    </tr>\n",
       "    <tr>\n",
       "      <th>6951</th>\n",
       "      <td>2003</td>\n",
       "      <td>185.0</td>\n",
       "      <td>6.0</td>\n",
       "      <td>27590</td>\n",
       "    </tr>\n",
       "    <tr>\n",
       "      <th>10994</th>\n",
       "      <td>2016</td>\n",
       "      <td>381.0</td>\n",
       "      <td>8.0</td>\n",
       "      <td>36030</td>\n",
       "    </tr>\n",
       "    <tr>\n",
       "      <th>6810</th>\n",
       "      <td>2001</td>\n",
       "      <td>170.0</td>\n",
       "      <td>6.0</td>\n",
       "      <td>28025</td>\n",
       "    </tr>\n",
       "    <tr>\n",
       "      <th>3200</th>\n",
       "      <td>2013</td>\n",
       "      <td>318.0</td>\n",
       "      <td>6.0</td>\n",
       "      <td>40805</td>\n",
       "    </tr>\n",
       "    <tr>\n",
       "      <th>8459</th>\n",
       "      <td>2017</td>\n",
       "      <td>259.0</td>\n",
       "      <td>4.0</td>\n",
       "      <td>34040</td>\n",
       "    </tr>\n",
       "    <tr>\n",
       "      <th>5492</th>\n",
       "      <td>2015</td>\n",
       "      <td>283.0</td>\n",
       "      <td>6.0</td>\n",
       "      <td>25245</td>\n",
       "    </tr>\n",
       "    <tr>\n",
       "      <th>9713</th>\n",
       "      <td>2016</td>\n",
       "      <td>193.0</td>\n",
       "      <td>4.0</td>\n",
       "      <td>30100</td>\n",
       "    </tr>\n",
       "    <tr>\n",
       "      <th>3688</th>\n",
       "      <td>2016</td>\n",
       "      <td>329.0</td>\n",
       "      <td>6.0</td>\n",
       "      <td>63100</td>\n",
       "    </tr>\n",
       "    <tr>\n",
       "      <th>7914</th>\n",
       "      <td>2001</td>\n",
       "      <td>240.0</td>\n",
       "      <td>6.0</td>\n",
       "      <td>35550</td>\n",
       "    </tr>\n",
       "    <tr>\n",
       "      <th>3864</th>\n",
       "      <td>2016</td>\n",
       "      <td>145.0</td>\n",
       "      <td>4.0</td>\n",
       "      <td>18250</td>\n",
       "    </tr>\n",
       "    <tr>\n",
       "      <th>10768</th>\n",
       "      <td>2015</td>\n",
       "      <td>138.0</td>\n",
       "      <td>4.0</td>\n",
       "      <td>20120</td>\n",
       "    </tr>\n",
       "    <tr>\n",
       "      <th>6584</th>\n",
       "      <td>1991</td>\n",
       "      <td>162.0</td>\n",
       "      <td>6.0</td>\n",
       "      <td>2000</td>\n",
       "    </tr>\n",
       "    <tr>\n",
       "      <th>...</th>\n",
       "      <td>...</td>\n",
       "      <td>...</td>\n",
       "      <td>...</td>\n",
       "      <td>...</td>\n",
       "    </tr>\n",
       "    <tr>\n",
       "      <th>782</th>\n",
       "      <td>1996</td>\n",
       "      <td>168.0</td>\n",
       "      <td>5.0</td>\n",
       "      <td>2000</td>\n",
       "    </tr>\n",
       "    <tr>\n",
       "      <th>11759</th>\n",
       "      <td>2015</td>\n",
       "      <td>261.0</td>\n",
       "      <td>6.0</td>\n",
       "      <td>27720</td>\n",
       "    </tr>\n",
       "    <tr>\n",
       "      <th>2502</th>\n",
       "      <td>2017</td>\n",
       "      <td>292.0</td>\n",
       "      <td>6.0</td>\n",
       "      <td>29995</td>\n",
       "    </tr>\n",
       "    <tr>\n",
       "      <th>5994</th>\n",
       "      <td>1996</td>\n",
       "      <td>210.0</td>\n",
       "      <td>6.0</td>\n",
       "      <td>2000</td>\n",
       "    </tr>\n",
       "    <tr>\n",
       "      <th>3133</th>\n",
       "      <td>2017</td>\n",
       "      <td>148.0</td>\n",
       "      <td>4.0</td>\n",
       "      <td>23495</td>\n",
       "    </tr>\n",
       "    <tr>\n",
       "      <th>10609</th>\n",
       "      <td>2007</td>\n",
       "      <td>395.0</td>\n",
       "      <td>8.0</td>\n",
       "      <td>34885</td>\n",
       "    </tr>\n",
       "    <tr>\n",
       "      <th>6891</th>\n",
       "      <td>2017</td>\n",
       "      <td>303.0</td>\n",
       "      <td>6.0</td>\n",
       "      <td>53475</td>\n",
       "    </tr>\n",
       "    <tr>\n",
       "      <th>3233</th>\n",
       "      <td>2013</td>\n",
       "      <td>318.0</td>\n",
       "      <td>6.0</td>\n",
       "      <td>46090</td>\n",
       "    </tr>\n",
       "    <tr>\n",
       "      <th>5067</th>\n",
       "      <td>2013</td>\n",
       "      <td>390.0</td>\n",
       "      <td>8.0</td>\n",
       "      <td>61500</td>\n",
       "    </tr>\n",
       "    <tr>\n",
       "      <th>1555</th>\n",
       "      <td>2016</td>\n",
       "      <td>272.0</td>\n",
       "      <td>4.0</td>\n",
       "      <td>47210</td>\n",
       "    </tr>\n",
       "    <tr>\n",
       "      <th>7140</th>\n",
       "      <td>1993</td>\n",
       "      <td>160.0</td>\n",
       "      <td>6.0</td>\n",
       "      <td>2000</td>\n",
       "    </tr>\n",
       "    <tr>\n",
       "      <th>4385</th>\n",
       "      <td>2003</td>\n",
       "      <td>203.0</td>\n",
       "      <td>6.0</td>\n",
       "      <td>22545</td>\n",
       "    </tr>\n",
       "    <tr>\n",
       "      <th>11407</th>\n",
       "      <td>2003</td>\n",
       "      <td>127.0</td>\n",
       "      <td>4.0</td>\n",
       "      <td>16799</td>\n",
       "    </tr>\n",
       "    <tr>\n",
       "      <th>11592</th>\n",
       "      <td>2016</td>\n",
       "      <td>240.0</td>\n",
       "      <td>4.0</td>\n",
       "      <td>44150</td>\n",
       "    </tr>\n",
       "    <tr>\n",
       "      <th>6750</th>\n",
       "      <td>2005</td>\n",
       "      <td>178.0</td>\n",
       "      <td>4.0</td>\n",
       "      <td>26580</td>\n",
       "    </tr>\n",
       "    <tr>\n",
       "      <th>4760</th>\n",
       "      <td>2016</td>\n",
       "      <td>287.0</td>\n",
       "      <td>6.0</td>\n",
       "      <td>32300</td>\n",
       "    </tr>\n",
       "    <tr>\n",
       "      <th>9582</th>\n",
       "      <td>2016</td>\n",
       "      <td>355.0</td>\n",
       "      <td>8.0</td>\n",
       "      <td>50040</td>\n",
       "    </tr>\n",
       "    <tr>\n",
       "      <th>1596</th>\n",
       "      <td>2015</td>\n",
       "      <td>268.0</td>\n",
       "      <td>6.0</td>\n",
       "      <td>32285</td>\n",
       "    </tr>\n",
       "    <tr>\n",
       "      <th>8156</th>\n",
       "      <td>2008</td>\n",
       "      <td>310.0</td>\n",
       "      <td>8.0</td>\n",
       "      <td>25720</td>\n",
       "    </tr>\n",
       "    <tr>\n",
       "      <th>6628</th>\n",
       "      <td>2016</td>\n",
       "      <td>340.0</td>\n",
       "      <td>6.0</td>\n",
       "      <td>52600</td>\n",
       "    </tr>\n",
       "    <tr>\n",
       "      <th>1201</th>\n",
       "      <td>2011</td>\n",
       "      <td>271.0</td>\n",
       "      <td>6.0</td>\n",
       "      <td>35090</td>\n",
       "    </tr>\n",
       "    <tr>\n",
       "      <th>6409</th>\n",
       "      <td>2017</td>\n",
       "      <td>256.0</td>\n",
       "      <td>6.0</td>\n",
       "      <td>31640</td>\n",
       "    </tr>\n",
       "    <tr>\n",
       "      <th>4831</th>\n",
       "      <td>2008</td>\n",
       "      <td>127.0</td>\n",
       "      <td>4.0</td>\n",
       "      <td>15889</td>\n",
       "    </tr>\n",
       "    <tr>\n",
       "      <th>532</th>\n",
       "      <td>1992</td>\n",
       "      <td>322.0</td>\n",
       "      <td>8.0</td>\n",
       "      <td>2427</td>\n",
       "    </tr>\n",
       "    <tr>\n",
       "      <th>6220</th>\n",
       "      <td>2015</td>\n",
       "      <td>188.0</td>\n",
       "      <td>4.0</td>\n",
       "      <td>26940</td>\n",
       "    </tr>\n",
       "    <tr>\n",
       "      <th>9483</th>\n",
       "      <td>2011</td>\n",
       "      <td>332.0</td>\n",
       "      <td>8.0</td>\n",
       "      <td>45055</td>\n",
       "    </tr>\n",
       "    <tr>\n",
       "      <th>11149</th>\n",
       "      <td>2014</td>\n",
       "      <td>420.0</td>\n",
       "      <td>8.0</td>\n",
       "      <td>122400</td>\n",
       "    </tr>\n",
       "    <tr>\n",
       "      <th>10722</th>\n",
       "      <td>2016</td>\n",
       "      <td>310.0</td>\n",
       "      <td>6.0</td>\n",
       "      <td>42700</td>\n",
       "    </tr>\n",
       "    <tr>\n",
       "      <th>3674</th>\n",
       "      <td>2015</td>\n",
       "      <td>402.0</td>\n",
       "      <td>8.0</td>\n",
       "      <td>67750</td>\n",
       "    </tr>\n",
       "    <tr>\n",
       "      <th>10259</th>\n",
       "      <td>2015</td>\n",
       "      <td>355.0</td>\n",
       "      <td>8.0</td>\n",
       "      <td>64085</td>\n",
       "    </tr>\n",
       "  </tbody>\n",
       "</table>\n",
       "<p>11306 rows × 4 columns</p>\n",
       "</div>"
      ],
      "text/plain": [
       "        Ano  Potência  Cilindros   Price\n",
       "4125   2017     420.0        8.0   78995\n",
       "9281   2007     285.0        8.0   24140\n",
       "3447   2008     302.0        8.0   28520\n",
       "11461  2016     268.0        4.0   28895\n",
       "11087  2008     240.0        6.0   21540\n",
       "2055   2017     205.0        4.0   29695\n",
       "5347   2013     302.0        6.0   37090\n",
       "1270   2017     278.0        6.0   34375\n",
       "7933   2015     230.0        4.0   45400\n",
       "7232   1995     205.0        6.0    2000\n",
       "2594   2017     174.0        4.0   22300\n",
       "6854   2017     240.0        4.0   41895\n",
       "9196   1998     120.0        4.0    2078\n",
       "6786   2017     290.0        6.0   58400\n",
       "2362   2004     140.0        4.0   10135\n",
       "2436   2004     140.0        4.0   17570\n",
       "2233   2008     210.0        6.0   27440\n",
       "3750   2014     225.0        8.0   32675\n",
       "6951   2003     185.0        6.0   27590\n",
       "10994  2016     381.0        8.0   36030\n",
       "6810   2001     170.0        6.0   28025\n",
       "3200   2013     318.0        6.0   40805\n",
       "8459   2017     259.0        4.0   34040\n",
       "5492   2015     283.0        6.0   25245\n",
       "9713   2016     193.0        4.0   30100\n",
       "3688   2016     329.0        6.0   63100\n",
       "7914   2001     240.0        6.0   35550\n",
       "3864   2016     145.0        4.0   18250\n",
       "10768  2015     138.0        4.0   20120\n",
       "6584   1991     162.0        6.0    2000\n",
       "...     ...       ...        ...     ...\n",
       "782    1996     168.0        5.0    2000\n",
       "11759  2015     261.0        6.0   27720\n",
       "2502   2017     292.0        6.0   29995\n",
       "5994   1996     210.0        6.0    2000\n",
       "3133   2017     148.0        4.0   23495\n",
       "10609  2007     395.0        8.0   34885\n",
       "6891   2017     303.0        6.0   53475\n",
       "3233   2013     318.0        6.0   46090\n",
       "5067   2013     390.0        8.0   61500\n",
       "1555   2016     272.0        4.0   47210\n",
       "7140   1993     160.0        6.0    2000\n",
       "4385   2003     203.0        6.0   22545\n",
       "11407  2003     127.0        4.0   16799\n",
       "11592  2016     240.0        4.0   44150\n",
       "6750   2005     178.0        4.0   26580\n",
       "4760   2016     287.0        6.0   32300\n",
       "9582   2016     355.0        8.0   50040\n",
       "1596   2015     268.0        6.0   32285\n",
       "8156   2008     310.0        8.0   25720\n",
       "6628   2016     340.0        6.0   52600\n",
       "1201   2011     271.0        6.0   35090\n",
       "6409   2017     256.0        6.0   31640\n",
       "4831   2008     127.0        4.0   15889\n",
       "532    1992     322.0        8.0    2427\n",
       "6220   2015     188.0        4.0   26940\n",
       "9483   2011     332.0        8.0   45055\n",
       "11149  2014     420.0        8.0  122400\n",
       "10722  2016     310.0        6.0   42700\n",
       "3674   2015     402.0        8.0   67750\n",
       "10259  2015     355.0        8.0   64085\n",
       "\n",
       "[11306 rows x 4 columns]"
      ]
     },
     "execution_count": 170,
     "metadata": {},
     "output_type": "execute_result"
    }
   ],
   "source": [
    "data = data.loc[data['Engine Cylinders']>0,['Year','Engine HP','Engine Cylinders','MSRP']]\n",
    "data = data.loc[data['MSRP']<125000,['Year','Engine HP','Engine Cylinders','MSRP']]\n",
    "data = data.loc[data['Engine HP']>0,['Year','Engine HP','Engine Cylinders','MSRP']]\n",
    "data.columns=[\"Ano\",\"Potência\",\"Cilindros\",\"Price\"]\n",
    "data.dropna()"
   ]
  },
  {
   "cell_type": "code",
   "execution_count": 171,
   "metadata": {},
   "outputs": [
    {
     "data": {
      "text/plain": [
       "(5000, 8000]       0.291545\n",
       "(8000, 11000]      0.205161\n",
       "(11000, 14000]     0.831444\n",
       "(14000, 17000]     4.459562\n",
       "(17000, 20000]     6.046863\n",
       "(20000, 23000]     9.405032\n",
       "(23000, 26000]    11.186697\n",
       "(26000, 29000]    10.538819\n",
       "(29000, 32000]    10.679192\n",
       "(32000, 35000]     8.638376\n",
       "(35000, 38000]     7.482993\n",
       "(38000, 41000]     6.165641\n",
       "(41000, 44000]     5.344995\n",
       "(44000, 47000]     4.070835\n",
       "(47000, 50000]     3.358169\n",
       "(50000, 53000]     2.569917\n",
       "(53000, 56000]     1.997624\n",
       "(56000, 59000]     1.241767\n",
       "(59000, 62000]     1.382140\n",
       "(62000, 65000]     1.446928\n",
       "(65000, 68000]     0.950221\n",
       "(68000, 71000]     0.701868\n",
       "(71000, 74000]     0.442717\n",
       "(74000, 77000]     0.561494\n",
       "Name: Price, dtype: float64"
      ]
     },
     "execution_count": 171,
     "metadata": {},
     "output_type": "execute_result"
    }
   ],
   "source": [
    "faixa = range(5000,80000,3000)\n",
    "price = pd.cut(data.Price, bins=faixa)\n",
    "price.value_counts(sort=False, normalize=True)*100"
   ]
  },
  {
   "cell_type": "code",
   "execution_count": 172,
   "metadata": {},
   "outputs": [
    {
     "data": {
      "image/png": "[encoded data removed]",
      "text/plain": [
       "<matplotlib.figure.Figure at 0x1e341610be0>"
      ]
     },
     "metadata": {},
     "output_type": "display_data"
    }
   ],
   "source": [
    "plot = data.Price.plot.hist(bins=faixa,title='Histograma de Distribuição do Preço dos Carros (H1)', figsize=(6, 6), alpha=0.9)\n",
    "plt.show()"
   ]
  },
  {
   "cell_type": "markdown",
   "metadata": {},
   "source": [
    "#### Histograma que possibilita a visualização da distribuição dos preços dos carros de acordo com faixas de preço."
   ]
  },
  {
   "cell_type": "markdown",
   "metadata": {},
   "source": [
    "___\n",
    "# MODELOS DE PREDIÇÃO"
   ]
  },
  {
   "cell_type": "markdown",
   "metadata": {
    "collapsed": true
   },
   "source": [
    "[O tópico C.PROCESSO E ESTATÍSTICAS DE VALIDAÇÃO estará dentro deste tópico. Organize-o aqui de forma clara!]\n",
    "\n",
    "[ORGANIZE AQUI TODOS OS MODELOS DE PREDIÇÃO NECESSÁRIOS NESTE PROJETO!]"
   ]
  },
  {
   "cell_type": "markdown",
   "metadata": {
    "collapsed": true
   },
   "source": [
    "o MODELO DE PREDIÇÃO PELA MÉDIA\n",
    "\n",
    "o MODELO DOS K VIZINHOS MAIS PRÓXIMOS (K-Nearest Neighbors Regression)\n",
    "\n",
    "o MODELO DE REGRESSÃO LINEAR (Multiple Linear Regression)\n",
    "\n",
    "o MODELO DE ÁRVORES DE REGRESSÃO (Decision Tree Regression)"
   ]
  },
  {
   "cell_type": "markdown",
   "metadata": {},
   "source": [
    "### Sepração da base de dados em treino e teste, considerando que 30% do dataframe ('data') será selecionado aleatoriamente para teste e os outros 70% para treinamento"
   ]
  },
  {
   "cell_type": "code",
   "execution_count": 173,
   "metadata": {},
   "outputs": [
    {
     "data": {
      "text/html": [
       "<div>\n",
       "<table border=\"1\" class=\"dataframe\">\n",
       "  <thead>\n",
       "    <tr style=\"text-align: right;\">\n",
       "      <th></th>\n",
       "      <th>Ano</th>\n",
       "      <th>Potência</th>\n",
       "      <th>Cilindros</th>\n",
       "      <th>Price</th>\n",
       "    </tr>\n",
       "  </thead>\n",
       "  <tbody>\n",
       "    <tr>\n",
       "      <th>count</th>\n",
       "      <td>7914.000000</td>\n",
       "      <td>7914.000000</td>\n",
       "      <td>7914.000000</td>\n",
       "      <td>7914.000000</td>\n",
       "    </tr>\n",
       "    <tr>\n",
       "      <th>mean</th>\n",
       "      <td>2010.359363</td>\n",
       "      <td>237.876674</td>\n",
       "      <td>5.476371</td>\n",
       "      <td>31628.178418</td>\n",
       "    </tr>\n",
       "    <tr>\n",
       "      <th>std</th>\n",
       "      <td>7.660115</td>\n",
       "      <td>91.879343</td>\n",
       "      <td>1.463317</td>\n",
       "      <td>20685.436948</td>\n",
       "    </tr>\n",
       "    <tr>\n",
       "      <th>min</th>\n",
       "      <td>1990.000000</td>\n",
       "      <td>55.000000</td>\n",
       "      <td>3.000000</td>\n",
       "      <td>2000.000000</td>\n",
       "    </tr>\n",
       "    <tr>\n",
       "      <th>25%</th>\n",
       "      <td>2007.000000</td>\n",
       "      <td>170.000000</td>\n",
       "      <td>4.000000</td>\n",
       "      <td>20678.750000</td>\n",
       "    </tr>\n",
       "    <tr>\n",
       "      <th>50%</th>\n",
       "      <td>2015.000000</td>\n",
       "      <td>220.000000</td>\n",
       "      <td>6.000000</td>\n",
       "      <td>29352.500000</td>\n",
       "    </tr>\n",
       "    <tr>\n",
       "      <th>75%</th>\n",
       "      <td>2016.000000</td>\n",
       "      <td>292.000000</td>\n",
       "      <td>6.000000</td>\n",
       "      <td>40400.000000</td>\n",
       "    </tr>\n",
       "    <tr>\n",
       "      <th>max</th>\n",
       "      <td>2017.000000</td>\n",
       "      <td>707.000000</td>\n",
       "      <td>12.000000</td>\n",
       "      <td>124900.000000</td>\n",
       "    </tr>\n",
       "  </tbody>\n",
       "</table>\n",
       "</div>"
      ],
      "text/plain": [
       "               Ano     Potência    Cilindros          Price\n",
       "count  7914.000000  7914.000000  7914.000000    7914.000000\n",
       "mean   2010.359363   237.876674     5.476371   31628.178418\n",
       "std       7.660115    91.879343     1.463317   20685.436948\n",
       "min    1990.000000    55.000000     3.000000    2000.000000\n",
       "25%    2007.000000   170.000000     4.000000   20678.750000\n",
       "50%    2015.000000   220.000000     6.000000   29352.500000\n",
       "75%    2016.000000   292.000000     6.000000   40400.000000\n",
       "max    2017.000000   707.000000    12.000000  124900.000000"
      ]
     },
     "execution_count": 173,
     "metadata": {},
     "output_type": "execute_result"
    }
   ],
   "source": [
    "from sklearn.model_selection import train_test_split as split\n",
    "train, test = split(data, test_size=0.3)\n",
    "train.describe()"
   ]
  },
  {
   "cell_type": "markdown",
   "metadata": {},
   "source": [
    "## MODELO DE PREDIÇÃO PELA MÉDIA"
   ]
  },
  {
   "cell_type": "markdown",
   "metadata": {},
   "source": [
    "### O primeiro modelo de predição realizado foi pela média, que consiste basicamente na análise da média da variável que esperamos prever, no caso o preço dos carros. Para isso basta analisar a média de preços e essa será o valor esperado para o carro"
   ]
  },
  {
   "cell_type": "code",
   "execution_count": 174,
   "metadata": {},
   "outputs": [
    {
     "name": "stdout",
     "output_type": "stream",
     "text": [
      "O preço esperado de um carro a partir da predição pela média é: 31628.17841799343\n"
     ]
    }
   ],
   "source": [
    "print('O preço esperado de um carro a partir da predição pela média é:',train.Price.mean())"
   ]
  },
  {
   "cell_type": "markdown",
   "metadata": {},
   "source": [
    "### Coeficiente de determinação (R2) e Raiz do erro médio quadrático (RMS)"
   ]
  },
  {
   "cell_type": "code",
   "execution_count": 175,
   "metadata": {},
   "outputs": [
    {
     "name": "stdout",
     "output_type": "stream",
     "text": [
      "[0.0]\n",
      "[20684.13001801719]\n"
     ]
    }
   ],
   "source": [
    "n = len(train)\n",
    "fi = train.Price.mean()\n",
    "ybarra = train.Price.mean()\n",
    "yi=train.Price\n",
    "\n",
    "def R2 (ybarra, fi, yi):\n",
    "    a = ((yi-fi)**2).sum()\n",
    "    b = ((yi-ybarra)**2).sum()\n",
    "    r2=1-(a/b)\n",
    "    return[r2]\n",
    "\n",
    "def RSM (ybarra, fi, yi):\n",
    "    c = ((yi-ybarra)**2).sum()\n",
    "    raiz = ((1/n)*c)**0.5\n",
    "    return[raiz]\n",
    "    \n",
    "print (R2(ybarra, fi, yi))\n",
    "print (RSM(ybarra, fi, yi))"
   ]
  },
  {
   "cell_type": "markdown",
   "metadata": {},
   "source": [
    "## MODELO DOS K VIZINHOS MAIS PRÓXIMOS (K-Nearest Neighbors Regression)"
   ]
  },
  {
   "cell_type": "markdown",
   "metadata": {},
   "source": [
    "### A seguir deve ser feito um segundo modelo de predição, no caso o chamado K-Nearest Neighbors Regression, que consiste basicamente em prever o valor do carro baseado em seus vizinhos mais próximos e seus atributos (exceto preço, já que este é usado para o cálculo da média). Isto é, este modelo se fundamenta em descobrir o valor do preço através de uma média dos preços de seus k vizinhos mais próximos. Para determinar quais são os vizinhos mais próximos, um cáclulo é feito e os vizinhos são selecionados."
   ]
  },
  {
   "cell_type": "code",
   "execution_count": 176,
   "metadata": {},
   "outputs": [
    {
     "name": "stdout",
     "output_type": "stream",
     "text": [
      "0.0988855474969\n"
     ]
    }
   ],
   "source": [
    "x = np.array(data.drop(['Price'],1))\n",
    "y = np.array(data['Price'])\n",
    "\n",
    "x_train, x_test,y_train, y_test=cross_validation.train_test_split(x,y,test_size=0.5)\n",
    "clf=neighbors.KNeighborsClassifier()\n",
    "clf.fit(x_train, y_train)\n",
    "accuracy=clf.score(x_test, y_test)\n",
    "print (accuracy)"
   ]
  },
  {
   "cell_type": "markdown",
   "metadata": {},
   "source": [
    "### Na célula acima foi determinado o alvo à predição: \"Price\". A base train (25%) e test(75%) foi separada. Além disso uma nova ferramenta foi disposta para verificar a veracidade dos dados: \"accuracy\". Apesar do \"accuracy estar próximo a 10%, o valor (\"Price\") deste modelo de regressão não ficou muito distante do valor (\"Price\") real."
   ]
  },
  {
   "cell_type": "code",
   "execution_count": 177,
   "metadata": {},
   "outputs": [
    {
     "name": "stdout",
     "output_type": "stream",
     "text": [
      "Digite o ano (2006 até 2017): 2015\n",
      "Digite a potencia (150 até 707): 240\n",
      "Digite a quantidade de cilindros (3 até 12): 6\n",
      "[36900]\n"
     ]
    }
   ],
   "source": [
    "ano = input('Digite o ano (2006 até 2017): ')\n",
    "potencia = input(\"Digite a potencia (150 até 707): \")\n",
    "cilindros = input(\"Digite a quantidade de cilindros (3 até 12): \")\n",
    "\n",
    "ee=np.array([ano,potencia,cilindros])\n",
    "ee=ee.reshape(1,-1)\n",
    "prediction = clf.predict(ee)\n",
    "print(prediction)"
   ]
  },
  {
   "cell_type": "markdown",
   "metadata": {},
   "source": [
    "### Há aqui uma interação entre o usuário e o programa. Sendo que, através da célula acima e do modelo de ressão dos K-vizinhos mais próximos, o usuário é capaz de prever o preço de um carro digitando seu ano, sua potência e sua quantidade de cilindros."
   ]
  },
  {
   "cell_type": "markdown",
   "metadata": {},
   "source": [
    "### Coeficiente de determinação (R2) e Raiz do erro médio quadrático (RMS)"
   ]
  },
  {
   "cell_type": "code",
   "execution_count": 186,
   "metadata": {},
   "outputs": [
    {
     "name": "stdout",
     "output_type": "stream",
     "text": [
      "[1.0005769882534974]\n",
      "[20684.13001801719]\n"
     ]
    }
   ],
   "source": [
    "n = len(train)\n",
    "fi = prediction\n",
    "ybarra = train.Price.mean()\n",
    "yi=train.Price\n",
    "\n",
    "def R2 (ybarra, fi, yi):\n",
    "    a = ((yi-fi)**2).sum()\n",
    "    b = ((yi-ybarra)**2).sum()\n",
    "    r2=1-(a/b)\n",
    "    return[r2]\n",
    "\n",
    "def RSM (ybarra, fi, yi):\n",
    "    c = ((yi-ybarra)**2).sum()\n",
    "    raiz = ((1/n)*c)**0.5\n",
    "    return[raiz]\n",
    "    \n",
    "print (R2(ybarra, fi, yi))\n",
    "print (RSM(ybarra, fi, yi))"
   ]
  },
  {
   "cell_type": "markdown",
   "metadata": {},
   "source": [
    "## MODELO DE REGRESSÃO LINEAR (Multiple Linear Regression)"
   ]
  },
  {
   "cell_type": "markdown",
   "metadata": {},
   "source": [
    "## O próximo modelo preditivo a ser realizado para análise dos preços de carro é pelo método de regressão linear, este se baseia.... "
   ]
  },
  {
   "cell_type": "code",
   "execution_count": 179,
   "metadata": {
    "collapsed": true
   },
   "outputs": [],
   "source": [
    "atributos = [ \"Potência\",\"Cilindros\", \"Ano\"]\n",
    "objetivo = ['Price']"
   ]
  },
  {
   "cell_type": "code",
   "execution_count": 180,
   "metadata": {},
   "outputs": [],
   "source": [
    "def ridge_regression(train, atributos, alpha):\n",
    "    ridgereg = Ridge(alpha=alpha,normalize=True)\n",
    "    ridgereg.fit(train[atributos],train['Price'])\n",
    "    y_pred = ridgereg.predict(train[atributos])\n",
    "    return(y_pred)"
   ]
  },
  {
   "cell_type": "code",
   "execution_count": 181,
   "metadata": {},
   "outputs": [
    {
     "data": {
      "image/png": "[encoded data removed]",
      "text/plain": [
       "<matplotlib.figure.Figure at 0x1e3416bec18>"
      ]
     },
     "metadata": {},
     "output_type": "display_data"
    }
   ],
   "source": [
    "ridge = ridge_regression(train, atributos,1e-5)\n",
    "plt.plot(train['Price'],ridge,'.', color=\"red\")\n",
    "plt.axis([0, 140000, 0, 140000])\n",
    "plt.xlabel(\"Price verdadeiro\")\n",
    "plt.ylabel(\"Price previsto pelo programa\")\n",
    "plt.show()"
   ]
  },
  {
   "cell_type": "markdown",
   "metadata": {},
   "source": [
    "### Coeficiente de determinação (R2) e Raiz do erro médio quadrático (RMS)"
   ]
  },
  {
   "cell_type": "code",
   "execution_count": 182,
   "metadata": {},
   "outputs": [
    {
     "name": "stdout",
     "output_type": "stream",
     "text": [
      "[0.7237531727619644]\n",
      "[20684.13001801719]\n"
     ]
    }
   ],
   "source": [
    "n = len(train)\n",
    "fi = ridge\n",
    "ybarra = train.Price.mean()\n",
    "yi=train.Price\n",
    "\n",
    "def R2 (ybarra, fi, yi):\n",
    "    a = ((yi-fi)**2).sum()\n",
    "    b = ((yi-ybarra)**2).sum()\n",
    "    r2=1-(a/b)\n",
    "    return[r2]\n",
    "\n",
    "def RSM (ybarra, fi, yi):\n",
    "    c = ((yi-ybarra)**2).sum()\n",
    "    raiz = ((1/n)*c)**0.5\n",
    "    return[raiz]\n",
    "    \n",
    "print (R2(ybarra, fi, yi))\n",
    "print (RSM(ybarra, fi, yi))"
   ]
  },
  {
   "cell_type": "markdown",
   "metadata": {},
   "source": [
    "## MODELO DE ÁRVORES DE REGRESSÃO (Decision Tree Regression)"
   ]
  },
  {
   "cell_type": "markdown",
   "metadata": {},
   "source": [
    "### O último modelo de predição necessário é conhecido por Decision Tree Regression, ou seja Árvores de Regressão. Nesse caso as árvores de decisão são usadas para ajustar uma curva senoidal com observação adicional de variáveis..."
   ]
  },
  {
   "cell_type": "code",
   "execution_count": 183,
   "metadata": {},
   "outputs": [
    {
     "ename": "NameError",
     "evalue": "name 'X' is not defined",
     "output_type": "error",
     "traceback": [
      "\u001b[0;31m---------------------------------------------------------------------------\u001b[0m",
      "\u001b[0;31mNameError\u001b[0m                                 Traceback (most recent call last)",
      "\u001b[0;32m<ipython-input-183-cb2a673092de>\u001b[0m in \u001b[0;36m<module>\u001b[0;34m()\u001b[0m\n\u001b[1;32m      1\u001b[0m \u001b[1;32mfrom\u001b[0m \u001b[0msklearn\u001b[0m \u001b[1;32mimport\u001b[0m \u001b[0mtree\u001b[0m\u001b[1;33m\u001b[0m\u001b[0m\n\u001b[1;32m      2\u001b[0m \u001b[0mmodel\u001b[0m \u001b[1;33m=\u001b[0m \u001b[0mtree\u001b[0m\u001b[1;33m.\u001b[0m\u001b[0mDecisionTreeRegressor\u001b[0m\u001b[1;33m(\u001b[0m\u001b[1;33m)\u001b[0m\u001b[1;33m\u001b[0m\u001b[0m\n\u001b[0;32m----> 3\u001b[0;31m \u001b[0mmodel\u001b[0m\u001b[1;33m.\u001b[0m\u001b[0mfit\u001b[0m\u001b[1;33m(\u001b[0m\u001b[0mX\u001b[0m\u001b[1;33m,\u001b[0m \u001b[0mY\u001b[0m\u001b[1;33m)\u001b[0m\u001b[1;33m\u001b[0m\u001b[0m\n\u001b[0m\u001b[1;32m      4\u001b[0m \u001b[0mmodel\u001b[0m\u001b[1;33m.\u001b[0m\u001b[0mscore\u001b[0m\u001b[1;33m(\u001b[0m\u001b[0mX\u001b[0m\u001b[1;33m,\u001b[0m \u001b[0mY\u001b[0m\u001b[1;33m)\u001b[0m\u001b[1;33m\u001b[0m\u001b[0m\n\u001b[1;32m      5\u001b[0m \u001b[0mano\u001b[0m \u001b[1;33m=\u001b[0m \u001b[0minput\u001b[0m\u001b[1;33m(\u001b[0m\u001b[1;34m'Digite o ano (2006 até 2017): '\u001b[0m\u001b[1;33m)\u001b[0m\u001b[1;33m\u001b[0m\u001b[0m\n",
      "\u001b[0;31mNameError\u001b[0m: name 'X' is not defined"
     ]
    }
   ],
   "source": [
    "from sklearn import tree\n",
    "model = tree.DecisionTreeRegressor()\n",
    "model.fit(X, Y)\n",
    "model.score(X, Y)\n",
    "ano = input('Digite o ano (2006 até 2017): ')\n",
    "potencia = input(\"Digite a potencia (150 até 707): \")\n",
    "cilindros = input(\"Digite a quantidade de cilindros (3 até 12): \")\n",
    "ee=np.array([ano,potencia,cilindros,(train.Price.mean())])\n",
    "ee=ee.reshape(1,-1)\n",
    "predicted = model.predict(ee)\n",
    "print(predicted)"
   ]
  },
  {
   "cell_type": "markdown",
   "metadata": {},
   "source": [
    "### "
   ]
  }
 ],
 "metadata": {
  "anaconda-cloud": {},
  "kernelspec": {
   "display_name": "Python 3",
   "language": "python",
   "name": "python3"
  },
  "language_info": {
   "codemirror_mode": {
    "name": "ipython",
    "version": 3
   },
   "file_extension": ".py",
   "mimetype": "text/x-python",
   "name": "python",
   "nbconvert_exporter": "python",
   "pygments_lexer": "ipython3",
   "version": "3.6.1"
  }
 },
 "nbformat": 4,
 "nbformat_minor": 1
}
