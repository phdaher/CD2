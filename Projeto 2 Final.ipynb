{
 "cells": [
  {
   "cell_type": "markdown",
   "metadata": {},
   "source": [
    "___\n",
    "# Ciência dos Dados - PROJETO 2"
   ]
  },
  {
   "cell_type": "markdown",
   "metadata": {},
   "source": [
    "___\n",
    "## Pedro Henrique Daher\n",
    "\n",
    "## Pedro Henrique Lopes\n",
    "\n",
    "___"
   ]
  },
  {
   "cell_type": "markdown",
   "metadata": {},
   "source": [
    "___\n",
    "\n",
    "## 1. Problema\n",
    "\n",
    "O Classificador Naive-Bayes, o qual se baseia no uso do teorema de Bayes, é largamente utilizado em filtros anti-spam de e-mails. O classificador permite calcular qual a probabilidade de uma mensagem ser SPAM considerando as palavras em seu conteúdo e, de forma complementar, permite calcular a probabilidade de uma mensagem ser HAM dada as palavras descritas na mensagem.\n",
    "\n",
    "Para realizar o MVP (minimum viable product) do projeto, você precisa programar uma versão do classificador que \"aprende\" o que é uma mensagem SPAM considerando uma base de treinamento e comparar o desempenho dos resultados com uma base de testes. \n"
   ]
  },
  {
   "cell_type": "markdown",
   "metadata": {},
   "source": [
    "___\n",
    "## 2. Separação da base de dados em Treinamento e Teste\n",
    "\n",
    "A base de dados deve ser separada em duas partes, aleatoriamente, considerando: \n",
    "    \n",
    "    75% dos dados para a parte Treinamento; e\n",
    "    25% dos dados para a parte Teste."
   ]
  },
  {
   "cell_type": "code",
   "execution_count": 2,
   "metadata": {
    "collapsed": true
   },
   "outputs": [],
   "source": [
    "import pandas as pd\n",
    "import os\n",
    "import math\n",
    "import json\n",
    "from random import shuffle\n",
    "import matplotlib.pyplot as plt\n",
    "import numpy as np\n",
    "from numpy import arange"
   ]
  },
  {
   "cell_type": "code",
   "execution_count": 3,
   "metadata": {},
   "outputs": [
    {
     "name": "stdout",
     "output_type": "stream",
     "text": [
      "Esperamos trabalhar no diretório\n",
      "C:\\Users\\Pedro Daher\\Downloads\n"
     ]
    }
   ],
   "source": [
    "print('Esperamos trabalhar no diretório')\n",
    "print(os.getcwd())"
   ]
  },
  {
   "cell_type": "code",
   "execution_count": 4,
   "metadata": {},
   "outputs": [
    {
     "data": {
      "text/plain": [
       "(5572, 2)"
      ]
     },
     "execution_count": 4,
     "metadata": {},
     "output_type": "execute_result"
    }
   ],
   "source": [
    "df=pd.read_excel(\"spamhamV2.xlsx\")\n",
    "df.shape\n",
    "\n",
    "#75% = 4180 \n",
    "#25%= 1394"
   ]
  },
  {
   "cell_type": "code",
   "execution_count": 5,
   "metadata": {
    "collapsed": true
   },
   "outputs": [],
   "source": [
    "#Utilizando iloc, separei as duas bases de dados em Treinamento 75% e Teste 25%\n",
    "\n",
    "treinamento=df.sample(frac = 0.75, replace = False).reset_index()\n",
    "teste = df.sample(frac = 0.25, replace = False).reset_index()\n",
    "\n",
    "#treinamento=df.iloc[0:4180,0:2]\n",
    "#teste=df.iloc[4181:5572,0:2]"
   ]
  },
  {
   "cell_type": "markdown",
   "metadata": {},
   "source": [
    "___\n",
    "## 3. Classificador Naive-Bayes"
   ]
  },
  {
   "cell_type": "markdown",
   "metadata": {},
   "source": [
    "Limpeza, correções e mais implementações nas bases de dados"
   ]
  },
  {
   "cell_type": "code",
   "execution_count": 6,
   "metadata": {
    "collapsed": true
   },
   "outputs": [],
   "source": [
    "#Removendo as impurezas:\n",
    "def CleanString (s):\n",
    "    s=s.replace(\",\",\" \")\n",
    "    s=s.replace(\"$\",\" \")\n",
    "    s=s.replace(\"+\",\" \")\n",
    "    s=s.replace(\"-\",\" \")\n",
    "    s=s.replace(\"=\",\" \")\n",
    "    s=s.replace(\"%\",\" \")\n",
    "    s=s.replace(\"*\",\" \")\n",
    "    s=s.replace(\"/\",\" \")\n",
    "    s=s.replace(\"/n\",\" \")\n",
    "    s=s.replace(\":\",\" \")\n",
    "    s=s.replace(\"(\",\" \")\n",
    "    s=s.replace(\")\",\" \")\n",
    "    s=s.replace(\"~\",\" \")\n",
    "    s=s.replace(\"[\",\" \")\n",
    "    s=s.replace(\"]\",\" \")\n",
    "    s=s.replace(\".\",\" \")\n",
    "    s=s.replace(\";\",\" \")\n",
    "    s=s.replace(\"_\",\" \")\n",
    "    s=s.replace(\"@\",\" \")\n",
    "    s=s.replace(\"  \",\" \")\n",
    "    s=s.replace(\"?\",\" \")\n",
    "    s=s.replace(\"!\",\" \")\n",
    "    return(s)"
   ]
  },
  {
   "cell_type": "code",
   "execution_count": 7,
   "metadata": {
    "collapsed": true
   },
   "outputs": [],
   "source": [
    "#Mais algumas implementações necessárias\n",
    "treinamento[\"Email\"] = CleanString(treinamento.Email)\n",
    "treinamento[\"Email\"] = treinamento.Email.str.lower()\n",
    "treinamento[\"Email\"] = treinamento.Email.str.split()"
   ]
  },
  {
   "cell_type": "code",
   "execution_count": 8,
   "metadata": {
    "collapsed": true
   },
   "outputs": [],
   "source": [
    "#Separação das bases de treinamento em duas distinatas, treinamento Ham e treinamento Spam\n",
    "TreinamentoSpam=treinamento[treinamento.Class==\"spam\"]\n",
    "TreinamentoHam=treinamento[treinamento.Class==\"ham\"]"
   ]
  },
  {
   "cell_type": "code",
   "execution_count": 9,
   "metadata": {
    "collapsed": true
   },
   "outputs": [],
   "source": [
    "#Conferindo quantos elementos possuem nas seguintes bases de dados\n",
    "TotalTreinHam = len(TreinamentoHam)\n",
    "TotalTreinSpam = len(TreinamentoSpam)\n",
    "TotalTrein = len(treinamento)"
   ]
  },
  {
   "cell_type": "markdown",
   "metadata": {},
   "source": [
    "Calculo das probabilidades marginais e condicionais necessárias para classificar uma nova mensagem"
   ]
  },
  {
   "cell_type": "code",
   "execution_count": 10,
   "metadata": {},
   "outputs": [
    {
     "data": {
      "text/plain": [
       "0.13448193347690834"
      ]
     },
     "execution_count": 10,
     "metadata": {},
     "output_type": "execute_result"
    }
   ],
   "source": [
    "#Calcule a probabilidades marginais e condicionais necessárias para classificar uma nova mensagem. Ou seja, calcule:\n",
    "#P(Spam)= Probabilidade da msg ser Spam\n",
    "ProbSpam = TotalTreinSpam/TotalTrein\n",
    "ProbSpam"
   ]
  },
  {
   "cell_type": "code",
   "execution_count": 11,
   "metadata": {},
   "outputs": [
    {
     "data": {
      "text/plain": [
       "0.8655180665230917"
      ]
     },
     "execution_count": 11,
     "metadata": {},
     "output_type": "execute_result"
    }
   ],
   "source": [
    "#Probabilidade de ser Ham\n",
    "ProbHam= 1 - ProbSpam\n",
    "ProbHam"
   ]
  },
  {
   "cell_type": "code",
   "execution_count": 12,
   "metadata": {
    "collapsed": true
   },
   "outputs": [],
   "source": [
    "#Probabilidade de uma palavra acontecer se a mensagem for Spam ou Ham\n",
    "#Se quiser Spam utilizar DicSpam, se quiser Ham utilizar DicHam\n",
    "def ProbWord(word, Dic, Total):\n",
    "    if word in Dic:\n",
    "        value=Dic[word]\n",
    "    else:\n",
    "        value=0\n",
    "    return((value+1)/(Total)) "
   ]
  },
  {
   "cell_type": "code",
   "execution_count": 13,
   "metadata": {
    "collapsed": true
   },
   "outputs": [],
   "source": [
    "#Classificando uma mensagem na base de testes\n",
    "def ProbMsg(msg, Dic, Total):\n",
    "    msg = CleanString(msg)\n",
    "    msg = msg.lower()\n",
    "    p = 1\n",
    "    for w in msg.split():\n",
    "        p = p*ProbWord(w, Dic, Total)\n",
    "    return (p) "
   ]
  },
  {
   "cell_type": "code",
   "execution_count": 14,
   "metadata": {
    "collapsed": true
   },
   "outputs": [],
   "source": [
    "#Quando deveremos considerar a mensagem Spam\n",
    "def ConsiderSpam(msg, cut, DicS, DicH, ProbS, ProbH, TotalS, TotalH):\n",
    "    wSpam=ProbS*ProbMsg(msg, DicS, TotalS)\n",
    "    wHam=ProbH*ProbMsg(msg, DicH, TotalH)\n",
    "    if wSpam*(1-cut)> wHam*cut:\n",
    "        return True\n",
    "    else:\n",
    "        return False "
   ]
  },
  {
   "cell_type": "markdown",
   "metadata": {},
   "source": [
    "Na celula a seguir, uma serie de comandos serão utilizados, mas não necessariamente eles irão responder apenas as perguntas do intem 3.4 (o item em sequencia que será respondido), os comandos servirão também para perguntas posteriores do item 5 \"Qualidade do classificador\". "
   ]
  },
  {
   "cell_type": "code",
   "execution_count": 15,
   "metadata": {
    "collapsed": true
   },
   "outputs": [],
   "source": [
    "def Classifier(printstats, cut, lstPPV, lstPNV, lstSENS, lstSPEC ):\n",
    "    treinamento=df.sample(frac = 0.75, replace = False).reset_index()\n",
    "    teste = df.sample(frac = 0.25, replace = False).reset_index()\n",
    "\n",
    "    treinamento[\"Email\"] = CleanString(treinamento.Email)\n",
    "    treinamento[\"Email\"] = treinamento.Email.str.lower()\n",
    "    treinamento[\"Email\"] = treinamento.Email.str.split()\n",
    "    \n",
    "    TreinamentoSpam=treinamento[treinamento.Class==\"spam\"]\n",
    "    TreinamentoHam=treinamento[treinamento.Class==\"ham\"]\n",
    "    \n",
    "    TotalTrein = len(treinamento)\n",
    "    TotalTreinSpam = len(TreinamentoSpam)\n",
    "    TotalTreinHam = len(TreinamentoHam)\n",
    "    \n",
    "    ProbSpam = TotalTreinSpam/TotalTrein\n",
    "    ProbHam= 1 - ProbSpam\n",
    "    \n",
    "    #Dicionário total \n",
    "    DicTotal={}\n",
    "    for email in treinamento.Email:\n",
    "        for word in email:\n",
    "            if word in DicTotal:\n",
    "                DicTotal[word] +=1\n",
    "            else:\n",
    "                DicTotal[word]=1\n",
    "    \n",
    "    #Dicionário Spam\n",
    "    DicSpam={}\n",
    "    for email in TreinamentoSpam.Email:\n",
    "        for word in email:\n",
    "            if word in DicSpam:\n",
    "                DicSpam[word] +=1\n",
    "            else:\n",
    "                DicSpam[word]=1  \n",
    "    \n",
    "    #Dicionário Ham\n",
    "    DicHam={}\n",
    "    for email in TreinamentoHam.Email:\n",
    "        for word in email:\n",
    "            if word in DicHam:\n",
    "                DicHam[word] +=1\n",
    "            else:\n",
    "                DicHam[word]=1  \n",
    "    \n",
    "    #Total no dicionário Spam\n",
    "    TotalDicSpam=0\n",
    "    for w in DicSpam:\n",
    "        TotalDicSpam += DicSpam[w]\n",
    "    \n",
    "    #Total no dicionário Ham\n",
    "    TotalDicHam=0\n",
    "    for w in DicHam:\n",
    "        TotalDicHam += DicHam[w]\n",
    "    \n",
    "    TesteSpam=teste[teste.Class==\"spam\"]\n",
    "    TesteHam=teste[teste.Class==\"ham\"]\n",
    "    P = len(TesteSpam)\n",
    "    N = len(TesteHam)         \n",
    "    \n",
    "    #Valores iniciais das variáveis    \n",
    "    VP=0\n",
    "    FN=0\n",
    "    FP=0\n",
    "    VN=0\n",
    "    \n",
    "    #Adicionando os valores nas variáveis\n",
    "    for mail in TesteSpam.Email:\n",
    "        if ConsiderSpam(mail, cut, DicSpam, DicHam, ProbSpam, ProbHam, TotalDicSpam + len(DicTotal), TotalDicHam + len(DicTotal)):\n",
    "            VP += 1\n",
    "        else:\n",
    "            FN += 1\n",
    "        \n",
    "    #Adicionando os valores nas variáveis\n",
    "    for mail in TesteHam.Email:\n",
    "        if ConsiderSpam(mail, cut, DicSpam, DicHam, ProbSpam, ProbHam, TotalDicSpam + len(DicTotal), TotalDicHam + len(DicTotal)):\n",
    "            FP += 1\n",
    "        else:\n",
    "            VN += 1\n",
    "            \n",
    "    ACC=(VP+VN)/(P+N)\n",
    "    SENS=VP/(VP+FN)\n",
    "    SPEC=VN/(VN+FP)\n",
    "    EFF=(SENS+SPEC)/2\n",
    "    PPV=VP/(VP+FP)\n",
    "    NPV=VN/(VN+FN)\n",
    "    MCC = (VP*VN - FP*FN) / math.sqrt((VP + FP)*(VP + FN)*(VN + FP)*(VN + FN))\n",
    "               \n",
    "    lstPPV.append(VP/(P+N))\n",
    "    lstPNV.append(VN/(P+N))  \n",
    "    lstSENS.append(SENS)\n",
    "    lstSPEC.append(SPEC)\n",
    "        \n",
    "    if printstats:\n",
    "        print(\"% de Falsos Positivos:\", FP/(P+N))\n",
    "        print(\"% de Positivos Verdadeiros:\", VP/(P+N))\n",
    "        print(\"% de Falsos Negativos:\", FN/(P+N))\n",
    "        print(\"% de Negativos Verdadeiros:\", VN/(P+N))\n",
    "        print(\"Acurácia (ACC):\",ACC)\n",
    "        print(\" \")\n",
    "        print(\"Sensibilidade (SENS):\",SENS)\n",
    "        print(\"Especificidade (SPEC):\", SPEC)\n",
    "        print(\"Eficiência (EFF):\", EFF)\n",
    "        print(\"Preditividade Positiva (PPV):\",PPV)\n",
    "        print(\"Preditividade Negativa (NPV):\",NPV)\n",
    "        print(\"Coeficiente de Correlação de Matthews - MCC (φ):\", MCC)\n",
    "        "
   ]
  },
  {
   "cell_type": "markdown",
   "metadata": {},
   "source": [
    "Testando o classificador e extraindo as seguintes medidas: (item 3.4)"
   ]
  },
  {
   "cell_type": "code",
   "execution_count": 16,
   "metadata": {},
   "outputs": [
    {
     "name": "stdout",
     "output_type": "stream",
     "text": [
      "% de Falsos Positivos: 0.007896625987078248\n",
      "% de Positivos Verdadeiros: 0.12132089016511127\n",
      "% de Falsos Negativos: 0.008614501076812634\n",
      "% de Negativos Verdadeiros: 0.8621679827709978\n",
      "Acurácia (ACC): 0.9834888729361091\n",
      " \n",
      "Sensibilidade (SENS): 0.9337016574585635\n",
      "Especificidade (SPEC): 0.990924092409241\n",
      "Eficiência (EFF): 0.9623128749339023\n",
      "Preditividade Positiva (PPV): 0.9388888888888889\n",
      "Preditividade Negativa (NPV): 0.9901071723000825\n",
      "Coeficiente de Correlação de Matthews - MCC (φ): 0.9268083295380385\n"
     ]
    }
   ],
   "source": [
    "PPV=[]\n",
    "PNV=[]\n",
    "SENS=[]\n",
    "SPEC=[]\n",
    "\n",
    "Classifier(True, 0.5, PPV, PNV, SENS, SPEC)"
   ]
  },
  {
   "cell_type": "markdown",
   "metadata": {},
   "source": [
    "Qualidade do meu classificador:"
   ]
  },
  {
   "cell_type": "markdown",
   "metadata": {},
   "source": [
    "Resposta: Os falsos negativos e falsos positivos apresentam resultados bem baixos, mostrando que os resultados estão com esperados, com isso o classificador possui uma boa qualidade."
   ]
  },
  {
   "cell_type": "markdown",
   "metadata": {},
   "source": [
    "___\n",
    "## 4. Curva ROC"
   ]
  },
  {
   "cell_type": "markdown",
   "metadata": {},
   "source": [
    "A curva ROC possui um ponto de corte variado (phi), para saber exatamente onde devemos considerar SPAM e onde devemos considerar HAM, para obtermos melhores resultados."
   ]
  },
  {
   "cell_type": "code",
   "execution_count": 32,
   "metadata": {},
   "outputs": [],
   "source": [
    "PPV=[]\n",
    "PNV=[]\n",
    "SENS=[]\n",
    "SPEC=[]\n",
    "for cut in np.arange(0,1,0.01):\n",
    "    Classifier(False, cut, PPV, PNV, SENS, SPEC)"
   ]
  },
  {
   "cell_type": "code",
   "execution_count": 33,
   "metadata": {},
   "outputs": [
    {
     "data": {
      "image/png": "[encoded data removed]",
      "text/plain": [
       "<matplotlib.figure.Figure at 0x1e9cb706390>"
      ]
     },
     "metadata": {},
     "output_type": "display_data"
    }
   ],
   "source": [
    "plt.scatter(SENS,SPEC)\n",
    "plt.show()"
   ]
  },
  {
   "cell_type": "markdown",
   "metadata": {},
   "source": [
    "___\n",
    "## 5. Qualidade do Classificador alterando a base de treinamento"
   ]
  },
  {
   "cell_type": "markdown",
   "metadata": {},
   "source": [
    "Como explicado anteriormente, a resolução de tal problema foi implementada nas celulas acima (item 3), e os resultados serão mostrados abaixo."
   ]
  },
  {
   "cell_type": "code",
   "execution_count": 29,
   "metadata": {
    "collapsed": true
   },
   "outputs": [],
   "source": [
    "PPV=[]\n",
    "PNV=[]\n",
    "SENS=[]\n",
    "SPEC=[]\n",
    "\n",
    "#Repetindo 10000 vezes\n",
    "for i in range(10000):\n",
    "    Classifier(False, 0.5, PPV, PNV, SENS, SPEC)"
   ]
  },
  {
   "cell_type": "markdown",
   "metadata": {},
   "source": [
    "Histograma com percentuais de acerto"
   ]
  },
  {
   "cell_type": "code",
   "execution_count": 30,
   "metadata": {},
   "outputs": [
    {
     "data": {
      "image/png": "[encoded data removed]",
      "text/plain": [
       "<matplotlib.figure.Figure at 0x1e9ca952978>"
      ]
     },
     "metadata": {},
     "output_type": "display_data"
    }
   ],
   "source": [
    "fig=plt.figure(figsize=(14,4))\n",
    "plt.subplot(121)\n",
    "plt.hist(PPV, bins=100,color=\"red\")\n",
    "plt.title(\"% de positivos verdadeiros\")\n",
    "\n",
    "plt.subplot(122)\n",
    "plt.hist(PNV,bins=100,color=\"green\")\n",
    "plt.title(\"% de negativos verdadeiros\")\n",
    "\n",
    "plt.tight_layout()\n",
    "plt.show()"
   ]
  },
  {
   "cell_type": "markdown",
   "metadata": {},
   "source": [
    "Discussão do resultado"
   ]
  },
  {
   "cell_type": "markdown",
   "metadata": {},
   "source": [
    "Repetindo nosso dataframe com valores sortidos 10.000 vezes, os gráficos começam a demonstrar resultados bem melhores, assim como esperados para os falsos positivos e falsos negativos (demonstrados no Histograma)."
   ]
  }
 ],
 "metadata": {
  "anaconda-cloud": {},
  "kernelspec": {
   "display_name": "Python 3",
   "language": "python",
   "name": "python3"
  },
  "language_info": {
   "codemirror_mode": {
    "name": "ipython",
    "version": 3
   },
   "file_extension": ".py",
   "mimetype": "text/x-python",
   "name": "python",
   "nbconvert_exporter": "python",
   "pygments_lexer": "ipython3",
   "version": "3.6.1"
  }
 },
 "nbformat": 4,
 "nbformat_minor": 1
}
